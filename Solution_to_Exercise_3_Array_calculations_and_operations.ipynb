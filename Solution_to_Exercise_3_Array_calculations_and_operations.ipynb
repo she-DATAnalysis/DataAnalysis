{
  "nbformat": 4,
  "nbformat_minor": 0,
  "metadata": {
    "colab": {
      "name": "Solution to Exercise #3: Array calculations and operations.ipynb",
      "version": "0.3.2",
      "provenance": [],
      "collapsed_sections": [],
      "include_colab_link": true
    },
    "kernelspec": {
      "name": "python3",
      "display_name": "Python 3"
    },
    "accelerator": "GPU"
  },
  "cells": [
    {
      "cell_type": "markdown",
      "metadata": {
        "id": "view-in-github",
        "colab_type": "text"
      },
      "source": [
        "<a href=\"https://colab.research.google.com/github/she-DATAnalysis/module-1/blob/master/Solution_to_Exercise_3_Array_calculations_and_operations.ipynb\" target=\"_parent\"><img src=\"https://colab.research.google.com/assets/colab-badge.svg\" alt=\"Open In Colab\"/></a>"
      ]
    },
    {
      "cell_type": "markdown",
      "metadata": {
        "id": "IZe1ZEda2w-d",
        "colab_type": "text"
      },
      "source": [
        "#Exercise #3: Array calculations and operations\n",
        "\n",
        "###Aim: Use NumPy arrays in mathematical calculations\n",
        "\n",
        "In this exercise we refers to a useful guide that can help you solve any questions in NumPy. This guide also summarize all that is needed to know about NumPy. [link to the guide](https://drive.google.com/file/d/0B9crmgoWupXkLTh0TS1HMzlrSVk/view)\n",
        "\n",
        "###Issue covered:\n",
        "\n",
        "\n",
        "\n",
        "*   Mathematical operations with arrays.\n",
        "*   Mathematical operations mixing scalars and arrays.\n",
        "*   Comparisons operators and Boolean operations on arrays.\n",
        "*   Using the \"where\" method.\n",
        "*   Mathematical operations on vectors.\n",
        "*   Find coefficients and roots of polynomial.\n",
        "\n",
        "\n",
        "\n",
        "First, import NumPy as np:\n",
        "\n",
        "\n",
        "\n",
        "\n",
        "\n"
      ]
    },
    {
      "cell_type": "code",
      "metadata": {
        "id": "4dgyBR1B3QVZ",
        "colab_type": "code",
        "colab": {}
      },
      "source": [
        "import numpy as np"
      ],
      "execution_count": 0,
      "outputs": []
    },
    {
      "cell_type": "markdown",
      "metadata": {
        "id": "TWRqPfxK5Q-M",
        "colab_type": "text"
      },
      "source": [
        "\n",
        "\n",
        "### 1.  Let’s perform some array calculations.\n",
        "**Read “Array mathematics” (pages 8-10) and then:**\n",
        "\n",
        "\n"
      ]
    },
    {
      "cell_type": "markdown",
      "metadata": {
        "id": "tCxziE8W6ryJ",
        "colab_type": "text"
      },
      "source": [
        "\n",
        "> (a) Create a 2-D array of shape (2, 4) containing two lists (range(4), range(10, 14)) and assign it to the variable \"a\":\n",
        "\n",
        "\n",
        "\n",
        "\n",
        "\n",
        "\n"
      ]
    },
    {
      "cell_type": "code",
      "metadata": {
        "id": "M8Gr9PQC64mb",
        "colab_type": "code",
        "outputId": "9fe8d228-42de-4912-ab15-dbaf285af101",
        "colab": {
          "base_uri": "https://localhost:8080/",
          "height": 50
        }
      },
      "source": [
        "# Your Code Here#\n",
        "a = np.array([range(4), range(10,14)])\n",
        "\n",
        "print(a)"
      ],
      "execution_count": 0,
      "outputs": [
        {
          "output_type": "stream",
          "text": [
            "[[ 0  1  2  3]\n",
            " [10 11 12 13]]\n"
          ],
          "name": "stdout"
        }
      ]
    },
    {
      "cell_type": "markdown",
      "metadata": {
        "id": "GFuaihgyHR8h",
        "colab_type": "text"
      },
      "source": [
        "> (b) Create a 2-D array of shape (2, 4) containing two lists (range(4), range(10, 14)) and assign it to the variable \"b\" :\n"
      ]
    },
    {
      "cell_type": "code",
      "metadata": {
        "id": "U3jo3clSQe2L",
        "colab_type": "code",
        "outputId": "cb2658fb-f294-47bc-d98e-d39a5b922af2",
        "colab": {
          "base_uri": "https://localhost:8080/",
          "height": 34
        }
      },
      "source": [
        "# Your Code Here#\n",
        "b = np.array([2, -1, 1, 0])\n",
        "\n",
        "print(b)"
      ],
      "execution_count": 0,
      "outputs": [
        {
          "output_type": "stream",
          "text": [
            "[ 2 -1  1  0]\n"
          ],
          "name": "stdout"
        }
      ]
    },
    {
      "cell_type": "markdown",
      "metadata": {
        "id": "S9JfjvRNQXRX",
        "colab_type": "text"
      },
      "source": [
        "\n",
        "> (c) Multiply array \"a\" by \"b\" and view the results:\n",
        "\n",
        "\n"
      ]
    },
    {
      "cell_type": "code",
      "metadata": {
        "id": "DXloqUXrK-nM",
        "colab_type": "code",
        "outputId": "020e4b23-ebea-4143-f9e8-1d0a788997ff",
        "colab": {
          "base_uri": "https://localhost:8080/",
          "height": 50
        }
      },
      "source": [
        "# Your Code Here#\n",
        "print(a * b)\n"
      ],
      "execution_count": 0,
      "outputs": [
        {
          "output_type": "stream",
          "text": [
            "[[  0  -1   2   0]\n",
            " [ 20 -11  12   0]]\n"
          ],
          "name": "stdout"
        }
      ]
    },
    {
      "cell_type": "markdown",
      "metadata": {
        "id": "W8GJq0rf1RTA",
        "colab_type": "text"
      },
      "source": [
        "**Do you understand how NumPy has used its broadcasting feature to do the calculation even though the arrays are different shapes?**\n",
        "\n",
        "\n",
        "It multiplied the vector 'b' by each dimention of matrix 'a' using the dot product:\n",
        "\n",
        "\n",
        "[ 2 -1  1  0]*[ 0  1  2  3] = [0  -1  2  0]\n",
        "\n",
        "[ 2 -1  1  0] * [10 11 12 13] = [ 20 -11  12   0]"
      ]
    },
    {
      "cell_type": "markdown",
      "metadata": {
        "id": "uT_f2eLVQg3h",
        "colab_type": "text"
      },
      "source": [
        "\n",
        "\n",
        "> (d) Multiply array \"b\" by 100 and assign the result to the variable \"b1\":\n",
        "\n"
      ]
    },
    {
      "cell_type": "code",
      "metadata": {
        "id": "wcVdZoTuQnx5",
        "colab_type": "code",
        "outputId": "0168b0d4-388c-4e7b-e162-c14e1968cd69",
        "colab": {
          "base_uri": "https://localhost:8080/",
          "height": 34
        }
      },
      "source": [
        "# Your Code Here#\n",
        "b1 = b * 100\n",
        "\n",
        "print(b1)"
      ],
      "execution_count": 0,
      "outputs": [
        {
          "output_type": "stream",
          "text": [
            "[ 200 -100  100    0]\n"
          ],
          "name": "stdout"
        }
      ]
    },
    {
      "cell_type": "markdown",
      "metadata": {
        "colab_type": "text",
        "id": "tPgGzdv1V3lX"
      },
      "source": [
        "\n",
        "\n",
        "> (e) Multiply array \"b\" by 100.0 and assign the result to the variable \"b2\":\n",
        "\n"
      ]
    },
    {
      "cell_type": "code",
      "metadata": {
        "id": "chRMlDigV4K4",
        "colab_type": "code",
        "outputId": "e47acc68-e0dd-41a2-a1e0-2fa3e8bff1f8",
        "colab": {
          "base_uri": "https://localhost:8080/",
          "height": 34
        }
      },
      "source": [
        "# Your Code Here#\n",
        "b2 = b * 100.0\n",
        "\n",
        "print(b2)"
      ],
      "execution_count": 0,
      "outputs": [
        {
          "output_type": "stream",
          "text": [
            "[ 200. -100.  100.    0.]\n"
          ],
          "name": "stdout"
        }
      ]
    },
    {
      "cell_type": "markdown",
      "metadata": {
        "colab_type": "text",
        "id": "fxR1WFi5V6bZ"
      },
      "source": [
        "\n",
        "\n",
        ">(f) Print b1 == b2:\n",
        "\n",
        "\n",
        "\n"
      ]
    },
    {
      "cell_type": "code",
      "metadata": {
        "id": "JLwxkjOaV6_T",
        "colab_type": "code",
        "outputId": "c67591d4-42a1-48a0-d21e-694e0f53a6e6",
        "colab": {
          "base_uri": "https://localhost:8080/",
          "height": 34
        }
      },
      "source": [
        "# Your Code Here#\n",
        "print(b1 == b2)"
      ],
      "execution_count": 0,
      "outputs": [
        {
          "output_type": "stream",
          "text": [
            "[ True  True  True  True]\n"
          ],
          "name": "stdout"
        }
      ]
    },
    {
      "cell_type": "markdown",
      "metadata": {
        "id": "CoEpdBZc1yyO",
        "colab_type": "text"
      },
      "source": [
        "**Are they the same?**\n",
        "\n",
        "yes\n"
      ]
    },
    {
      "cell_type": "markdown",
      "metadata": {
        "colab_type": "text",
        "id": "hbafHSgGWPtC"
      },
      "source": [
        "\n",
        "\n",
        ">(g) Why do they display differently? Interrogate the typecode of each array to find out why:\n",
        "\n"
      ]
    },
    {
      "cell_type": "code",
      "metadata": {
        "id": "ofR9uzC_WQc8",
        "colab_type": "code",
        "outputId": "d32637b3-8d18-470b-95a8-ae881f15c177",
        "colab": {
          "base_uri": "https://localhost:8080/",
          "height": 34
        }
      },
      "source": [
        "# Your Code Here#\n",
        "print(b1.dtype, b2.dtype)"
      ],
      "execution_count": 0,
      "outputs": [
        {
          "output_type": "stream",
          "text": [
            "int64 float64\n"
          ],
          "name": "stdout"
        }
      ]
    },
    {
      "cell_type": "markdown",
      "metadata": {
        "id": "ymRcEsoPQor3",
        "colab_type": "text"
      },
      "source": [
        "###2. Let's perform some operations on array.\n",
        "Read the last code chunk on page 4 and read on until page 7 includes \n",
        "\tRead “Basic array operations” (pages 11-12) and then:\n",
        "\n"
      ]
    },
    {
      "cell_type": "markdown",
      "metadata": {
        "id": "5mB8SDGwQ1hA",
        "colab_type": "text"
      },
      "source": [
        "\n",
        "\n",
        "> (a) Continue to use arrays \"a\" defined above:\n",
        "\n",
        "\n"
      ]
    },
    {
      "cell_type": "code",
      "metadata": {
        "id": "9njquKr68lCR",
        "colab_type": "code",
        "outputId": "ac4b6236-8e5f-490b-f754-1906dc64c86d",
        "colab": {
          "base_uri": "https://localhost:8080/",
          "height": 50
        }
      },
      "source": [
        "print(a)"
      ],
      "execution_count": 0,
      "outputs": [
        {
          "output_type": "stream",
          "text": [
            "[[ 0  1  2  3]\n",
            " [10 11 12 13]]\n"
          ],
          "name": "stdout"
        }
      ]
    },
    {
      "cell_type": "markdown",
      "metadata": {
        "id": "V7VOA6lWRulp",
        "colab_type": "text"
      },
      "source": [
        "\n",
        "\n",
        "> (b) Print the sum, mean and the product of \"a\" in two different ways:\n",
        "\n",
        "\n"
      ]
    },
    {
      "cell_type": "code",
      "metadata": {
        "id": "0kQ0HtXvRfPZ",
        "colab_type": "code",
        "outputId": "fd470bd1-876d-45ec-ba09-0b82e7a0d455",
        "colab": {
          "base_uri": "https://localhost:8080/",
          "height": 50
        }
      },
      "source": [
        "# Your Code Here#\n",
        "print(a.sum(), a.mean(), a.prod())\n",
        "\n",
        "print(np.sum(a), np.mean(a), np.prod(a))"
      ],
      "execution_count": 0,
      "outputs": [
        {
          "output_type": "stream",
          "text": [
            "52 6.5 0\n",
            "52 6.5 0\n"
          ],
          "name": "stdout"
        }
      ]
    },
    {
      "cell_type": "markdown",
      "metadata": {
        "colab_type": "text",
        "id": "YEDbBZKpR14i"
      },
      "source": [
        "\n",
        "\n",
        ">(c) Print the variance and the standard deviation of \"a\"in two different ways:\n",
        "\n",
        "\n"
      ]
    },
    {
      "cell_type": "code",
      "metadata": {
        "id": "A8dgmHOtR1OJ",
        "colab_type": "code",
        "outputId": "151ec159-263c-4a46-ae63-0676289b10be",
        "colab": {
          "base_uri": "https://localhost:8080/",
          "height": 50
        }
      },
      "source": [
        "# Your Code Here#\n",
        "print(a.var(), a.std())\n",
        "print(np.var(a), np.std(a))"
      ],
      "execution_count": 0,
      "outputs": [
        {
          "output_type": "stream",
          "text": [
            "26.25 5.123475382979799\n",
            "26.25 5.123475382979799\n"
          ],
          "name": "stdout"
        }
      ]
    },
    {
      "cell_type": "markdown",
      "metadata": {
        "colab_type": "text",
        "id": "HiSsOJ1zZAj0"
      },
      "source": [
        "###3. Let’s look at array comparisons.\n",
        "Read “Comparisons operators and value testing” (pages 12-14). Then:\n",
        "\n"
      ]
    },
    {
      "cell_type": "markdown",
      "metadata": {
        "colab_type": "text",
        "id": "b7N5elRAST-u"
      },
      "source": [
        "\n",
        "\n",
        ">(a)  Create an array of values 0 to 9 and assign it to the variable \"arr\":\n",
        "\n",
        "\n"
      ]
    },
    {
      "cell_type": "code",
      "metadata": {
        "id": "NLxAKMvnSUdU",
        "colab_type": "code",
        "outputId": "f4f7eab0-203b-4673-f423-f60364e1cf1c",
        "colab": {
          "base_uri": "https://localhost:8080/",
          "height": 34
        }
      },
      "source": [
        "# Your Code Here#\n",
        "arr = np.array(range(10))\n",
        "\n",
        "print(arr)"
      ],
      "execution_count": 0,
      "outputs": [
        {
          "output_type": "stream",
          "text": [
            "[0 1 2 3 4 5 6 7 8 9]\n"
          ],
          "name": "stdout"
        }
      ]
    },
    {
      "cell_type": "markdown",
      "metadata": {
        "colab_type": "text",
        "id": "EQKgp9DtSVis"
      },
      "source": [
        "\n",
        "\n",
        ">(b)  Print two different ways of expressing the condition where the array is less than 3:\n",
        "\n",
        "\n"
      ]
    },
    {
      "cell_type": "code",
      "metadata": {
        "id": "3TNZKchOSbzx",
        "colab_type": "code",
        "outputId": "37a00f42-45a9-46ab-95a3-953d96f167f1",
        "colab": {
          "base_uri": "https://localhost:8080/",
          "height": 50
        }
      },
      "source": [
        "# Your Code Here#\n",
        "print(arr < 3)\n",
        "print(np.less(arr, 3))"
      ],
      "execution_count": 0,
      "outputs": [
        {
          "output_type": "stream",
          "text": [
            "[ True  True  True False False False False False False False]\n",
            "[ True  True  True False False False False False False False]\n"
          ],
          "name": "stdout"
        }
      ]
    },
    {
      "cell_type": "markdown",
      "metadata": {
        "colab_type": "text",
        "id": "M_Uht7xyZKGj"
      },
      "source": [
        "\n",
        "\n",
        ">(c)  Create a numpy condition where \"arr\" is less than 3 OR greater than 8:\n",
        "\n",
        "\n"
      ]
    },
    {
      "cell_type": "code",
      "metadata": {
        "id": "vhcw0ivoabhH",
        "colab_type": "code",
        "outputId": "550aa603-bd1d-4db6-8b3c-ae4e423b8a82",
        "colab": {
          "base_uri": "https://localhost:8080/",
          "height": 34
        }
      },
      "source": [
        "# Your Code Here#\n",
        "condition = np.logical_or(arr < 3, arr > 8)\n",
        "print(condition)"
      ],
      "execution_count": 0,
      "outputs": [
        {
          "output_type": "stream",
          "text": [
            "[ True  True  True False False False False False False  True]\n"
          ],
          "name": "stdout"
        }
      ]
    },
    {
      "cell_type": "markdown",
      "metadata": {
        "colab_type": "text",
        "id": "S8uivrLuZKHB"
      },
      "source": [
        "\n",
        "\n",
        ">(d)  Use the  *where*  function to create a new array where the value is arr * 5 if the above condition is True and arr * -5 where the condition is False:\n",
        "\n",
        "\n"
      ]
    },
    {
      "cell_type": "code",
      "metadata": {
        "colab_type": "code",
        "id": "oDeBQhLQZKHD",
        "outputId": "bbf075b9-9e06-4e93-9a32-312a4f7ffaf1",
        "colab": {
          "base_uri": "https://localhost:8080/",
          "height": 34
        }
      },
      "source": [
        "# Your Code Here#\n",
        "new_arr = np.where(condition, arr * 5, arr * -5)\n",
        "print(new_arr)"
      ],
      "execution_count": 0,
      "outputs": [
        {
          "output_type": "stream",
          "text": [
            "[  0   5  10 -15 -20 -25 -30 -35 -40  45]\n"
          ],
          "name": "stdout"
        }
      ]
    },
    {
      "cell_type": "markdown",
      "metadata": {
        "colab_type": "text",
        "id": "Qyqe78f9ZC5N"
      },
      "source": [
        "###4. Let’s look at item selection and manipulation.\n",
        "Read “Array item selection and manipulation” (pages 14-16).\n",
        "\n",
        "\n"
      ]
    },
    {
      "cell_type": "markdown",
      "metadata": {
        "colab_type": "text",
        "id": "ZKU-9cUnZL9f"
      },
      "source": [
        "\n",
        "\n",
        ">(a)  Continue to use arrays \"a\" defined above:\n",
        "\n",
        "\n"
      ]
    },
    {
      "cell_type": "code",
      "metadata": {
        "colab_type": "code",
        "id": "iR_8l-U3ZL9i",
        "outputId": "ce26dc60-2b51-4d0e-8984-e3236061342c",
        "colab": {
          "base_uri": "https://localhost:8080/",
          "height": 50
        }
      },
      "source": [
        "print(a)"
      ],
      "execution_count": 0,
      "outputs": [
        {
          "output_type": "stream",
          "text": [
            "[[ 0  1  2  3]\n",
            " [10 11 12 13]]\n"
          ],
          "name": "stdout"
        }
      ]
    },
    {
      "cell_type": "markdown",
      "metadata": {
        "colab_type": "text",
        "id": "BXR-B8keZL9o"
      },
      "source": [
        "\n",
        "\n",
        ">(b)  Print an array contains all the values from \"a\" that are greater than 1:\n",
        "\n",
        "\n"
      ]
    },
    {
      "cell_type": "code",
      "metadata": {
        "colab_type": "code",
        "id": "bBhq6lKqZL9p",
        "outputId": "71af5cb7-d493-4adc-c71a-71b7575bdc59",
        "colab": {
          "base_uri": "https://localhost:8080/",
          "height": 34
        }
      },
      "source": [
        "# Your Code Here#\n",
        "print(a[a > 1])"
      ],
      "execution_count": 0,
      "outputs": [
        {
          "output_type": "stream",
          "text": [
            "[ 2  3 10 11 12 13]\n"
          ],
          "name": "stdout"
        }
      ]
    },
    {
      "cell_type": "markdown",
      "metadata": {
        "colab_type": "text",
        "id": "momFetd_ZL9t"
      },
      "source": [
        "\n",
        "\n",
        ">(c)  Print an array contains all the values from \"a\" that are greater than 3 and smaller than 11:\n",
        "\n",
        "\n"
      ]
    },
    {
      "cell_type": "code",
      "metadata": {
        "colab_type": "code",
        "id": "rHI4S7sfZL9u",
        "outputId": "e0b93745-7e45-4f20-ab3a-1a8b6733a12a",
        "colab": {
          "base_uri": "https://localhost:8080/",
          "height": 34
        }
      },
      "source": [
        "# Your Code Here#\n",
        "print(a[np.logical_and(a > 3, a < 11)])"
      ],
      "execution_count": 0,
      "outputs": [
        {
          "output_type": "stream",
          "text": [
            "[10]\n"
          ],
          "name": "stdout"
        }
      ]
    },
    {
      "cell_type": "markdown",
      "metadata": {
        "colab_type": "text",
        "id": "zONW_cEvZL9y"
      },
      "source": [
        "\n",
        "\n",
        ">(d)  Create an array from the list range(6) and assign it to the variable \"b\":\n",
        "\n"
      ]
    },
    {
      "cell_type": "code",
      "metadata": {
        "colab_type": "code",
        "id": "Ol5cQ93GZL90",
        "outputId": "2eaeac7c-714e-4099-863a-67421daaad2b",
        "colab": {
          "base_uri": "https://localhost:8080/",
          "height": 34
        }
      },
      "source": [
        "# Your Code Here#\n",
        "b = np.array(range(6))\n",
        "print(b)"
      ],
      "execution_count": 0,
      "outputs": [
        {
          "output_type": "stream",
          "text": [
            "[0 1 2 3 4 5]\n"
          ],
          "name": "stdout"
        }
      ]
    },
    {
      "cell_type": "markdown",
      "metadata": {
        "colab_type": "text",
        "id": "TtS3z4rQZL95"
      },
      "source": [
        "\n",
        "\n",
        ">(e)  Use the  *put*  function to replace the first element of \"b\" with 6:\n",
        "\n",
        "\n"
      ]
    },
    {
      "cell_type": "code",
      "metadata": {
        "colab_type": "code",
        "id": "ZjKZYkFJZL96",
        "outputId": "179ec371-a875-40ac-95ad-3a520e970956",
        "colab": {
          "base_uri": "https://localhost:8080/",
          "height": 34
        }
      },
      "source": [
        "# Your Code Here#\n",
        "b.put([0], 6)\n",
        "print(b)"
      ],
      "execution_count": 0,
      "outputs": [
        {
          "output_type": "stream",
          "text": [
            "[6 1 2 3 4 5]\n"
          ],
          "name": "stdout"
        }
      ]
    },
    {
      "cell_type": "markdown",
      "metadata": {
        "colab_type": "text",
        "id": "viMNO5ikZL9-"
      },
      "source": [
        "\n",
        "\n",
        ">(f)  Create an array from the list range(5) and assign it to the variable \"c\":\n",
        "\n",
        "\n"
      ]
    },
    {
      "cell_type": "code",
      "metadata": {
        "colab_type": "code",
        "id": "QPIY4YztZL9_",
        "outputId": "7baf5ef1-bf51-4779-c622-a0afee5f0b9d",
        "colab": {
          "base_uri": "https://localhost:8080/",
          "height": 34
        }
      },
      "source": [
        "# Your Code Here#\n",
        "c = np.array(range(5))\n",
        "print(c)"
      ],
      "execution_count": 0,
      "outputs": [
        {
          "output_type": "stream",
          "text": [
            "[0 1 2 3 4]\n"
          ],
          "name": "stdout"
        }
      ]
    },
    {
      "cell_type": "markdown",
      "metadata": {
        "id": "or4R15o-b0jq",
        "colab_type": "text"
      },
      "source": [
        "\n",
        "\n",
        ">(g)   Use the  *put*  function to replace the first element of \"b\" with the last element of \"c\":\n",
        "\n"
      ]
    },
    {
      "cell_type": "code",
      "metadata": {
        "id": "OSFMwExBb3Tu",
        "colab_type": "code",
        "outputId": "4e85b1cb-e5fc-43e0-c109-279f8887c341",
        "colab": {
          "base_uri": "https://localhost:8080/",
          "height": 34
        }
      },
      "source": [
        "# Your Code Here#\n",
        "b.put([-1], c)\n",
        "print(b)"
      ],
      "execution_count": 0,
      "outputs": [
        {
          "output_type": "stream",
          "text": [
            "[6 1 2 3 4 0]\n"
          ],
          "name": "stdout"
        }
      ]
    },
    {
      "cell_type": "markdown",
      "metadata": {
        "id": "056ZwQF_41sj",
        "colab_type": "text"
      },
      "source": [
        "## Goog Job!!"
      ]
    }
  ]
}