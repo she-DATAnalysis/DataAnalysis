{
  "nbformat": 4,
  "nbformat_minor": 0,
  "metadata": {
    "colab": {
      "name": "Matplotlib_Ex2_Histograms.ipynb",
      "version": "0.3.2",
      "provenance": [],
      "collapsed_sections": [],
      "include_colab_link": true
    },
    "kernelspec": {
      "name": "python3",
      "display_name": "Python 3"
    }
  },
  "cells": [
    {
      "cell_type": "markdown",
      "metadata": {
        "id": "view-in-github",
        "colab_type": "text"
      },
      "source": [
        "<a href=\"https://colab.research.google.com/github/she-DATAnalysis/DataAnalysis/blob/master/Matplotlib_Ex2_Histograms.ipynb\" target=\"_parent\"><img src=\"https://colab.research.google.com/assets/colab-badge.svg\" alt=\"Open In Colab\"/></a>"
      ]
    },
    {
      "cell_type": "markdown",
      "metadata": {
        "id": "jHcpE10dV1XO",
        "colab_type": "text"
      },
      "source": [
        "#Matplotlib basic data visualization - Histograms\n",
        "\n",
        "###This Excersice is based on DataCamp [\"Intermediate Python for Data Science\" Matplotlib section](https://campus.datacamp.com/courses/intermediate-python-for-data-science/matplotlib?ex=1)\n",
        "\n",
        "\n",
        "First, lets import:"
      ]
    },
    {
      "cell_type": "code",
      "metadata": {
        "id": "nbuTsZNXWW_l",
        "colab_type": "code",
        "colab": {}
      },
      "source": [
        "import matplotlib.pyplot as plt\n",
        "import numpy as np\n"
      ],
      "execution_count": 0,
      "outputs": []
    },
    {
      "cell_type": "markdown",
      "metadata": {
        "id": "ju1AQO2Lklqm",
        "colab_type": "text"
      },
      "source": [
        "Now, we will generate random data so that we can play arund with histograms for a bit. "
      ]
    },
    {
      "cell_type": "code",
      "metadata": {
        "id": "zSqR003DVyKv",
        "colab_type": "code",
        "colab": {}
      },
      "source": [
        "# World population Data:\n",
        "Data = np.random.randn(1000)"
      ],
      "execution_count": 0,
      "outputs": []
    },
    {
      "cell_type": "markdown",
      "metadata": {
        "id": "LLZAnKc3k0DM",
        "colab_type": "text"
      },
      "source": [
        "* Use plt.hist() to create a histogram of the values in Data. Do not specify the number of bins; Python will set the number of bins to 10 by default for you.\n",
        "*Add plt.show() to actually display the histogram. Can you tell which bin contains the most observations?"
      ]
    },
    {
      "cell_type": "code",
      "metadata": {
        "id": "2b9Q-YtAjgil",
        "colab_type": "code",
        "colab": {}
      },
      "source": [
        "# Create Histogram from plt.hist()\n",
        "\n",
        "# Display histogram\n",
        "plt.show()"
      ],
      "execution_count": 0,
      "outputs": []
    },
    {
      "cell_type": "markdown",
      "metadata": {
        "id": "jDWYgf4Mk9hj",
        "colab_type": "text"
      },
      "source": [
        "In the previous exercise, you didn't specify the number of bins. By default, Python sets the number of bins to 10 in that case. The number of bins is pretty important. Too few bins will oversimplify reality and won't show you the details. Too many bins will overcomplicate reality and won't show the bigger picture.\n",
        "\n",
        "To control the number of bins to divide your data in, you can set the bins argument.\n",
        "\n",
        "plt.show() displays a plot; plt.clf() cleans it up again so you can start afresh.\n",
        "\n",
        "* Build a histogram of Data, with 5 bins. Can you tell which bin contains the most observations?\n"
      ]
    },
    {
      "cell_type": "code",
      "metadata": {
        "id": "LVjB3bXRZPCY",
        "colab_type": "code",
        "colab": {}
      },
      "source": [
        "# Build histogram with 5 bins\n",
        "\n",
        "# Show and clean up plot\n",
        "plt.show()\n",
        "plt.clf()"
      ],
      "execution_count": 0,
      "outputs": []
    },
    {
      "cell_type": "markdown",
      "metadata": {
        "id": "VDxbLVEhlJlj",
        "colab_type": "text"
      },
      "source": [
        "* Build another histogram of life_exp, this time with 20 bins. Is this better?\n"
      ]
    },
    {
      "cell_type": "code",
      "metadata": {
        "id": "Pd7XWzbtfqVS",
        "colab_type": "code",
        "colab": {}
      },
      "source": [
        "# Change the line plot below to a scatter plot\n",
        "\n",
        "# Show and clean up again\n",
        "plt.show()\n",
        "plt.clf()"
      ],
      "execution_count": 0,
      "outputs": []
    }
  ]
}