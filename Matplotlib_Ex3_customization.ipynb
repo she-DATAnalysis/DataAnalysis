{
  "nbformat": 4,
  "nbformat_minor": 0,
  "metadata": {
    "colab": {
      "name": "Matplotlib_Ex3 - customization.ipynb",
      "version": "0.3.2",
      "provenance": [],
      "collapsed_sections": [],
      "include_colab_link": true
    },
    "kernelspec": {
      "name": "python3",
      "display_name": "Python 3"
    }
  },
  "cells": [
    {
      "cell_type": "markdown",
      "metadata": {
        "id": "view-in-github",
        "colab_type": "text"
      },
      "source": [
        "<a href=\"https://colab.research.google.com/github/she-DATAnalysis/DataAnalysis/blob/master/Matplotlib_Ex3_customization.ipynb\" target=\"_parent\"><img src=\"https://colab.research.google.com/assets/colab-badge.svg\" alt=\"Open In Colab\"/></a>"
      ]
    },
    {
      "cell_type": "markdown",
      "metadata": {
        "id": "jHcpE10dV1XO",
        "colab_type": "text"
      },
      "source": [
        "#Matplotlib - Cusomuzation \n",
        "\n",
        "###This Excersice is based on DataCamp [\"Intermediate Python for Data Science\" Matplotlib section](https://campus.datacamp.com/courses/intermediate-python-for-data-science/matplotlib?ex=1)\n",
        "\n",
        "\n",
        "First, lets import:"
      ]
    },
    {
      "cell_type": "code",
      "metadata": {
        "id": "nbuTsZNXWW_l",
        "colab_type": "code",
        "colab": {}
      },
      "source": [
        "import matplotlib.pyplot as plt\n",
        "import numpy as np\n"
      ],
      "execution_count": 0,
      "outputs": []
    },
    {
      "cell_type": "markdown",
      "metadata": {
        "id": "ju1AQO2Lklqm",
        "colab_type": "text"
      },
      "source": [
        "Now we upload world population data. This is just very basic data we can manipulate for practice purposes."
      ]
    },
    {
      "cell_type": "code",
      "metadata": {
        "id": "zSqR003DVyKv",
        "colab_type": "code",
        "colab": {}
      },
      "source": [
        "# World population Data:\n",
        "year = np.arange(1951,2020,1)\n",
        "population  = np.array([2.583816786,2.630584384,2.677230358,2.724302468,2.772242535,2.821383444,2.871952278,\n",
        "                        2.924081243,2.977824686,3.033212527,3.090305279,3.149244245,3.210271352,3.273670772,\n",
        "                        3.339592688,3.408121405,3.479053821,3.5518807,3.625905514,3.70057765,3.7757909,\n",
        "                        3.851545181,3.927538695,4.003448151,4.079087198,4.154287594,4.229201257,4.304377112,4.380585755,\n",
        "                        4.458411534,4.537845777,4.618776168,4.701530843,4.786483862,4.873781796,4.963633228,\n",
        "                        5.055636132,5.148556956,5.240735117,5.33094346,5.418758803,5.504401149,5.588094837,\n",
        "                        5.670319703,5.751474416,5.83156502,5.910566295,5.988846103,6.066867391,6.145006989,\n",
        "                        6.223412158,6.302149639,6.381408987,6.461370865,6.542159383,6.623847913,6.706418593,\n",
        "                        6.789771253,6.873741054,6.958169159,7.043008586,7.128176935,7.213426452,7.298453033,\n",
        "                        7.38300882,7.46696428,7.550262101,7.632819325,7.714576923])"
      ],
      "execution_count": 0,
      "outputs": []
    },
    {
      "cell_type": "markdown",
      "metadata": {
        "id": "LLZAnKc3k0DM",
        "colab_type": "text"
      },
      "source": [
        "## Labels\n",
        "As a first step, let's add axis labels and a title to the plot. You can do this with the xlabel(), ylabel() and title() functions, available in matplotlib.pyplot. This sub-package is already imported as plt. \n",
        "This can be done in to ways. \n",
        "\n",
        "First:"
      ]
    },
    {
      "cell_type": "code",
      "metadata": {
        "id": "2b9Q-YtAjgil",
        "colab_type": "code",
        "colab": {}
      },
      "source": [
        "# Make a line plot: year on the x-axis, pop on the y-axis\n",
        "plt.plot(year,population)\n",
        "\n",
        "# Strings\n",
        "xlab = 'Time [years]'\n",
        "ylab = 'World population [billions]'\n",
        "title = 'World Population Vs. Year'\n",
        "\n",
        "# Add axis labels using the strings above and the plt.xlabel(), plt.ylabel() and plt.title() commands\n",
        "\n",
        "# Display the plot with plt.show()\n",
        "plt.show()\n",
        "\n"
      ],
      "execution_count": 0,
      "outputs": []
    },
    {
      "cell_type": "markdown",
      "metadata": {
        "id": "jDWYgf4Mk9hj",
        "colab_type": "text"
      },
      "source": [
        "Second method is writing the string directly into the command:"
      ]
    },
    {
      "cell_type": "code",
      "metadata": {
        "id": "LVjB3bXRZPCY",
        "colab_type": "code",
        "colab": {}
      },
      "source": [
        "# Make a line plot: year on the x-axis, pop on the y-axis\n",
        "plt.plot(year,population)\n",
        "\n",
        "# Add axis labels using the plt.xlabel(), plt.ylabel() and plt.title() commands\n",
        "\n",
        "\n",
        "# Display the plot with plt.show()\n",
        "plt.show()"
      ],
      "execution_count": 0,
      "outputs": []
    },
    {
      "cell_type": "markdown",
      "metadata": {
        "id": "VDxbLVEhlJlj",
        "colab_type": "text"
      },
      "source": [
        "## Ticks\n",
        "\n",
        "You can control the  axis ticks by specifying two arguments:\n",
        "\n",
        "\n",
        "```\n",
        " plt.yticks([0,1,2], [\"one\",\"two\",\"three\"])'\n",
        "\n",
        "```\n",
        "\n",
        "\n",
        "In this example, the ticks corresponding to the numbers 0, 1 and 2 will be replaced by one, two and three, respectively.\n",
        "\n",
        "Let's do a similar thing for the y-axis of your world population chart, with the xticks() function.\n",
        "\n",
        "* lets replace the ticks in the y-axis from 2 to 8 to  2b to 8b to represent population in billions:\n",
        "\n",
        "\n",
        "\n",
        "\n"
      ]
    },
    {
      "cell_type": "code",
      "metadata": {
        "id": "Pd7XWzbtfqVS",
        "colab_type": "code",
        "colab": {}
      },
      "source": [
        "# Make a line plot: year on the x-axis, pop on the y-axis\n",
        "plt.plot(year,population)\n",
        "\n",
        "# Definition of tick_val and tick_lab\n",
        "tick_val = [2, 3, 4, 5, 6, 7, 8]\n",
        "tick_lab = ['2b', '3b','4b','5b','6b','7b','8b']\n",
        "\n",
        "# Adapt the ticks on the y-axis using plt.yticks command\n",
        "\n",
        "\n",
        "# After customizing, display the plot\n",
        "plt.show()"
      ],
      "execution_count": 0,
      "outputs": []
    },
    {
      "cell_type": "markdown",
      "metadata": {
        "id": "cvhQlgtUywSM",
        "colab_type": "text"
      },
      "source": [
        "## Sizes\n",
        "Now, lets take a look at a scatter plot. For this exercise use the following data:\n",
        "\n",
        "\n"
      ]
    },
    {
      "cell_type": "code",
      "metadata": {
        "id": "8TnXxb18zKEb",
        "colab_type": "code",
        "colab": {}
      },
      "source": [
        "x_data = np.arange(0,10)\n",
        "y_data = np.array([2, 2.5, 3, 2.2 ,4 ,6, 5.5, 8, 7.7, 10])\n"
      ],
      "execution_count": 0,
      "outputs": []
    },
    {
      "cell_type": "markdown",
      "metadata": {
        "id": "6HTNwaR80BIb",
        "colab_type": "text"
      },
      "source": [
        "Now, display the data in a scatter plot using the plt.scatter() command: "
      ]
    },
    {
      "cell_type": "code",
      "metadata": {
        "id": "ogMdNauY0IKJ",
        "colab_type": "code",
        "colab": {}
      },
      "source": [
        "# Make a scatter plot:\n",
        "\n",
        "# display the plot\n",
        "plt.show()"
      ],
      "execution_count": 0,
      "outputs": []
    },
    {
      "cell_type": "markdown",
      "metadata": {
        "id": "I9pZMeX00bWF",
        "colab_type": "text"
      },
      "source": [
        "Right now, the scatter plot is just a cloud of blue dots, indistinguishable from each other. Let's change this. Wouldn't it be nice if the size of the dots corresponds to the population?\n",
        "\n",
        "To accomplish this, we can define the size of each marker. Lets play with it for a bit. \n",
        "\n",
        "We start with defining 10 sizes:"
      ]
    },
    {
      "cell_type": "code",
      "metadata": {
        "id": "O6O-CsGM5J76",
        "colab_type": "code",
        "colab": {}
      },
      "source": [
        "s = np.array([20, 100, 200, 400, 70, 500, 800, 1500, 300, 900])"
      ],
      "execution_count": 0,
      "outputs": []
    },
    {
      "cell_type": "markdown",
      "metadata": {
        "id": "MgwEEffN5cFk",
        "colab_type": "text"
      },
      "source": [
        "Now we define the size in the scatter command. Recreate the plot with np.scatter, only this time, enter a third argument \"s\":"
      ]
    },
    {
      "cell_type": "code",
      "metadata": {
        "id": "fD42xO6i6AS4",
        "colab_type": "code",
        "colab": {}
      },
      "source": [
        "# Make a scatter plot:\n",
        "\n",
        "# display the plot\n",
        "plt.show()"
      ],
      "execution_count": 0,
      "outputs": []
    },
    {
      "cell_type": "markdown",
      "metadata": {
        "id": "SxbWNTmO5_bo",
        "colab_type": "text"
      },
      "source": [
        "This should look nice, but it might look better if you multiply \"s\" to highlight the size differences. Try multiplying \"s\" to get a visually pleasing result for you. "
      ]
    },
    {
      "cell_type": "code",
      "metadata": {
        "id": "klTNUi5g6j7T",
        "colab_type": "code",
        "colab": {}
      },
      "source": [
        "# Make a scatter plot :\n",
        "\n",
        "# display the plot\n",
        "plt.show()"
      ],
      "execution_count": 0,
      "outputs": []
    },
    {
      "cell_type": "markdown",
      "metadata": {
        "id": "XYJeuD6b6jny",
        "colab_type": "text"
      },
      "source": [
        "To color each marker in a different color, you can define a list of colors:\n"
      ]
    },
    {
      "cell_type": "code",
      "metadata": {
        "id": "418PZm_J8LkP",
        "colab_type": "code",
        "colab": {}
      },
      "source": [
        "cols = ['red','green','blue','yellow','pink','red','green','blue','yellow','pink']\n",
        "\n",
        "# Make a scatter plot :\n",
        "plt.scatter(x_data,y_data,4*s, c = cols, alpha = 0.8) # Alpha defines transparency\n",
        "\n",
        "# display the plot\n",
        "plt.show()"
      ],
      "execution_count": 0,
      "outputs": []
    }
  ]
}