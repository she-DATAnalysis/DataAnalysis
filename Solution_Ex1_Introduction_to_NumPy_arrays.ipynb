{
  "nbformat": 4,
  "nbformat_minor": 0,
  "metadata": {
    "colab": {
      "name": "Solution - Ex1-Introduction to NumPy arrays.ipynb",
      "version": "0.3.2",
      "provenance": [],
      "collapsed_sections": [],
      "include_colab_link": true
    },
    "kernelspec": {
      "name": "python3",
      "display_name": "Python 3"
    },
    "accelerator": "GPU"
  },
  "cells": [
    {
      "cell_type": "markdown",
      "metadata": {
        "id": "view-in-github",
        "colab_type": "text"
      },
      "source": [
        "<a href=\"https://colab.research.google.com/github/she-DATAnalysis/module-1/blob/master/Solution_Ex1_Introduction_to_NumPy_arrays.ipynb\" target=\"_parent\"><img src=\"https://colab.research.google.com/assets/colab-badge.svg\" alt=\"Open In Colab\"/></a>"
      ]
    },
    {
      "cell_type": "markdown",
      "metadata": {
        "id": "IZe1ZEda2w-d",
        "colab_type": "text"
      },
      "source": [
        "#Exercise #1: Introduction to NumPy arrays\n",
        "In this exercise we refers to a useful guide that can help you solve any questions in NumPy. This guide also summarize all that is needed to know about NumPy. [link to the guide](https://drive.google.com/file/d/0B9crmgoWupXkLTh0TS1HMzlrSVk/view)\n",
        "\n",
        "##Let’s create arrays in different ways:\n",
        "\n",
        "First, you should import numpy as np"
      ]
    },
    {
      "cell_type": "code",
      "metadata": {
        "id": "4dgyBR1B3QVZ",
        "colab_type": "code",
        "colab": {}
      },
      "source": [
        "import numpy as np"
      ],
      "execution_count": 0,
      "outputs": []
    },
    {
      "cell_type": "markdown",
      "metadata": {
        "id": "TWRqPfxK5Q-M",
        "colab_type": "text"
      },
      "source": [
        "\n",
        "\n",
        "### 1.   Read “Other ways to create arrays” on page 7-8 and then:\n",
        "\n"
      ]
    },
    {
      "cell_type": "markdown",
      "metadata": {
        "id": "tCxziE8W6ryJ",
        "colab_type": "text"
      },
      "source": [
        "\n",
        ">(a) Create an array of zeros of shape (2,3,4) :\n",
        "\n",
        "\n",
        "\n",
        "\n",
        "\n"
      ]
    },
    {
      "cell_type": "code",
      "metadata": {
        "id": "M8Gr9PQC64mb",
        "colab_type": "code",
        "outputId": "8f6b6bf0-7897-489e-a848-f8994f0e5c86",
        "colab": {
          "base_uri": "https://localhost:8080/",
          "height": 134
        }
      },
      "source": [
        "# Use np.zeros to create a (2,3,4) zero array\n",
        "# Your Code Here#\n",
        "a = np.zeros((2,3,4))\n",
        "\n",
        "print(a)"
      ],
      "execution_count": 0,
      "outputs": [
        {
          "output_type": "stream",
          "text": [
            "[[[0. 0. 0. 0.]\n",
            "  [0. 0. 0. 0.]\n",
            "  [0. 0. 0. 0.]]\n",
            "\n",
            " [[0. 0. 0. 0.]\n",
            "  [0. 0. 0. 0.]\n",
            "  [0. 0. 0. 0.]]]\n"
          ],
          "name": "stdout"
        }
      ]
    },
    {
      "cell_type": "markdown",
      "metadata": {
        "id": "GFuaihgyHR8h",
        "colab_type": "text"
      },
      "source": [
        " >(b) Create an array of ones of shape (2,3,4) :\n"
      ]
    },
    {
      "cell_type": "code",
      "metadata": {
        "id": "DXloqUXrK-nM",
        "colab_type": "code",
        "outputId": "e6085dc0-03eb-4de0-da7f-fd76ba2c30d2",
        "colab": {
          "base_uri": "https://localhost:8080/",
          "height": 134
        }
      },
      "source": [
        "# Use np.ones to create a (2,3,4) ones array\n",
        "# Your Code Here#\n",
        "b = np.ones((2,3,4))\n",
        "\n",
        "print(b)"
      ],
      "execution_count": 0,
      "outputs": [
        {
          "output_type": "stream",
          "text": [
            "[[[1. 1. 1. 1.]\n",
            "  [1. 1. 1. 1.]\n",
            "  [1. 1. 1. 1.]]\n",
            "\n",
            " [[1. 1. 1. 1.]\n",
            "  [1. 1. 1. 1.]\n",
            "  [1. 1. 1. 1.]]]\n"
          ],
          "name": "stdout"
        }
      ]
    },
    {
      "cell_type": "markdown",
      "metadata": {
        "id": "YwOaU7VcdSJv",
        "colab_type": "text"
      },
      "source": [
        ">(c) Create an array with values 0 to 999 using  np.arange  function."
      ]
    },
    {
      "cell_type": "code",
      "metadata": {
        "id": "Z4W9cPdLdRwO",
        "colab_type": "code",
        "outputId": "01b4ae4d-1687-42b0-84b5-9a92ff715ee9",
        "colab": {
          "base_uri": "https://localhost:8080/",
          "height": 958
        }
      },
      "source": [
        "# Your Code Here#\n",
        "c = np.arange(1000)\n",
        "print(c)"
      ],
      "execution_count": 0,
      "outputs": [
        {
          "output_type": "stream",
          "text": [
            "[  0   1   2   3   4   5   6   7   8   9  10  11  12  13  14  15  16  17\n",
            "  18  19  20  21  22  23  24  25  26  27  28  29  30  31  32  33  34  35\n",
            "  36  37  38  39  40  41  42  43  44  45  46  47  48  49  50  51  52  53\n",
            "  54  55  56  57  58  59  60  61  62  63  64  65  66  67  68  69  70  71\n",
            "  72  73  74  75  76  77  78  79  80  81  82  83  84  85  86  87  88  89\n",
            "  90  91  92  93  94  95  96  97  98  99 100 101 102 103 104 105 106 107\n",
            " 108 109 110 111 112 113 114 115 116 117 118 119 120 121 122 123 124 125\n",
            " 126 127 128 129 130 131 132 133 134 135 136 137 138 139 140 141 142 143\n",
            " 144 145 146 147 148 149 150 151 152 153 154 155 156 157 158 159 160 161\n",
            " 162 163 164 165 166 167 168 169 170 171 172 173 174 175 176 177 178 179\n",
            " 180 181 182 183 184 185 186 187 188 189 190 191 192 193 194 195 196 197\n",
            " 198 199 200 201 202 203 204 205 206 207 208 209 210 211 212 213 214 215\n",
            " 216 217 218 219 220 221 222 223 224 225 226 227 228 229 230 231 232 233\n",
            " 234 235 236 237 238 239 240 241 242 243 244 245 246 247 248 249 250 251\n",
            " 252 253 254 255 256 257 258 259 260 261 262 263 264 265 266 267 268 269\n",
            " 270 271 272 273 274 275 276 277 278 279 280 281 282 283 284 285 286 287\n",
            " 288 289 290 291 292 293 294 295 296 297 298 299 300 301 302 303 304 305\n",
            " 306 307 308 309 310 311 312 313 314 315 316 317 318 319 320 321 322 323\n",
            " 324 325 326 327 328 329 330 331 332 333 334 335 336 337 338 339 340 341\n",
            " 342 343 344 345 346 347 348 349 350 351 352 353 354 355 356 357 358 359\n",
            " 360 361 362 363 364 365 366 367 368 369 370 371 372 373 374 375 376 377\n",
            " 378 379 380 381 382 383 384 385 386 387 388 389 390 391 392 393 394 395\n",
            " 396 397 398 399 400 401 402 403 404 405 406 407 408 409 410 411 412 413\n",
            " 414 415 416 417 418 419 420 421 422 423 424 425 426 427 428 429 430 431\n",
            " 432 433 434 435 436 437 438 439 440 441 442 443 444 445 446 447 448 449\n",
            " 450 451 452 453 454 455 456 457 458 459 460 461 462 463 464 465 466 467\n",
            " 468 469 470 471 472 473 474 475 476 477 478 479 480 481 482 483 484 485\n",
            " 486 487 488 489 490 491 492 493 494 495 496 497 498 499 500 501 502 503\n",
            " 504 505 506 507 508 509 510 511 512 513 514 515 516 517 518 519 520 521\n",
            " 522 523 524 525 526 527 528 529 530 531 532 533 534 535 536 537 538 539\n",
            " 540 541 542 543 544 545 546 547 548 549 550 551 552 553 554 555 556 557\n",
            " 558 559 560 561 562 563 564 565 566 567 568 569 570 571 572 573 574 575\n",
            " 576 577 578 579 580 581 582 583 584 585 586 587 588 589 590 591 592 593\n",
            " 594 595 596 597 598 599 600 601 602 603 604 605 606 607 608 609 610 611\n",
            " 612 613 614 615 616 617 618 619 620 621 622 623 624 625 626 627 628 629\n",
            " 630 631 632 633 634 635 636 637 638 639 640 641 642 643 644 645 646 647\n",
            " 648 649 650 651 652 653 654 655 656 657 658 659 660 661 662 663 664 665\n",
            " 666 667 668 669 670 671 672 673 674 675 676 677 678 679 680 681 682 683\n",
            " 684 685 686 687 688 689 690 691 692 693 694 695 696 697 698 699 700 701\n",
            " 702 703 704 705 706 707 708 709 710 711 712 713 714 715 716 717 718 719\n",
            " 720 721 722 723 724 725 726 727 728 729 730 731 732 733 734 735 736 737\n",
            " 738 739 740 741 742 743 744 745 746 747 748 749 750 751 752 753 754 755\n",
            " 756 757 758 759 760 761 762 763 764 765 766 767 768 769 770 771 772 773\n",
            " 774 775 776 777 778 779 780 781 782 783 784 785 786 787 788 789 790 791\n",
            " 792 793 794 795 796 797 798 799 800 801 802 803 804 805 806 807 808 809\n",
            " 810 811 812 813 814 815 816 817 818 819 820 821 822 823 824 825 826 827\n",
            " 828 829 830 831 832 833 834 835 836 837 838 839 840 841 842 843 844 845\n",
            " 846 847 848 849 850 851 852 853 854 855 856 857 858 859 860 861 862 863\n",
            " 864 865 866 867 868 869 870 871 872 873 874 875 876 877 878 879 880 881\n",
            " 882 883 884 885 886 887 888 889 890 891 892 893 894 895 896 897 898 899\n",
            " 900 901 902 903 904 905 906 907 908 909 910 911 912 913 914 915 916 917\n",
            " 918 919 920 921 922 923 924 925 926 927 928 929 930 931 932 933 934 935\n",
            " 936 937 938 939 940 941 942 943 944 945 946 947 948 949 950 951 952 953\n",
            " 954 955 956 957 958 959 960 961 962 963 964 965 966 967 968 969 970 971\n",
            " 972 973 974 975 976 977 978 979 980 981 982 983 984 985 986 987 988 989\n",
            " 990 991 992 993 994 995 996 997 998 999]\n"
          ],
          "name": "stdout"
        }
      ]
    },
    {
      "cell_type": "markdown",
      "metadata": {
        "id": "FYVNbNKrdftn",
        "colab_type": "text"
      },
      "source": [
        ">(d) Create a 2-D array from the list [[1, 2.1, 3.2], [4, 5.4, 6.5]]:\n"
      ]
    },
    {
      "cell_type": "code",
      "metadata": {
        "id": "n166KmacTRIl",
        "colab_type": "code",
        "outputId": "d4a44fbd-6784-4036-d643-f98cf85347c8",
        "colab": {
          "base_uri": "https://localhost:8080/",
          "height": 50
        }
      },
      "source": [
        "# Try to define the list first and only after that convert it into an array\n",
        "# Your Code Here#\n",
        "d = np.array([[1, 2.1, 3.2], [4, 5.4, 6.5]])\n",
        "\n",
        "print(d)"
      ],
      "execution_count": 0,
      "outputs": [
        {
          "output_type": "stream",
          "text": [
            "[[1.  2.1 3.2]\n",
            " [4.  5.4 6.5]]\n"
          ],
          "name": "stdout"
        }
      ]
    },
    {
      "cell_type": "markdown",
      "metadata": {
        "id": "RY7sTdBReGvv",
        "colab_type": "text"
      },
      "source": [
        ">(e) Create a new array of zeros with the same dimensions and type of \"d\"."
      ]
    },
    {
      "cell_type": "code",
      "metadata": {
        "id": "-b3SqFpIeTFT",
        "colab_type": "code",
        "outputId": "561a1f0b-8e1a-4145-a2ad-50ff2bab12f2",
        "colab": {
          "base_uri": "https://localhost:8080/",
          "height": 50
        }
      },
      "source": [
        "# Your Code Here#\n",
        "e = np.zeros_like(d)\n",
        "\n",
        "print(e)"
      ],
      "execution_count": 0,
      "outputs": [
        {
          "output_type": "stream",
          "text": [
            "[[0. 0. 0.]\n",
            " [0. 0. 0.]]\n"
          ],
          "name": "stdout"
        }
      ]
    },
    {
      "cell_type": "markdown",
      "metadata": {
        "id": "tfM0YQbrfFLF",
        "colab_type": "text"
      },
      "source": [
        ">(f) Create a new array of ones with the same dimensions and type of \"d\"."
      ]
    },
    {
      "cell_type": "code",
      "metadata": {
        "id": "thEZ0xMAfEuu",
        "colab_type": "code",
        "outputId": "d7716c68-db6f-4cda-949c-0ff03c796926",
        "colab": {
          "base_uri": "https://localhost:8080/",
          "height": 50
        }
      },
      "source": [
        "f = np.ones_like(d)\n",
        "\n",
        "print(f)"
      ],
      "execution_count": 0,
      "outputs": [
        {
          "output_type": "stream",
          "text": [
            "[[1. 1. 1.]\n",
            " [1. 1. 1.]]\n"
          ],
          "name": "stdout"
        }
      ]
    },
    {
      "cell_type": "markdown",
      "metadata": {
        "id": "uaoKJvoqfNpj",
        "colab_type": "text"
      },
      "source": [
        "### 2.  Let’s look at indexing and slicing arrays.\n",
        "\n",
        "Read page 3-4 (without the final section describing the \"reshape\") and then:\n"
      ]
    },
    {
      "cell_type": "markdown",
      "metadata": {
        "id": "LVRO3XwefWkx",
        "colab_type": "text"
      },
      "source": [
        ">(a) Create an array from the list [2, 3.4, 5.5, -6.4, -2.2, 2.4]:"
      ]
    },
    {
      "cell_type": "code",
      "metadata": {
        "id": "KJQa-ewLgU8j",
        "colab_type": "code",
        "outputId": "e8fce2f1-3f73-4482-bcef-1b4fb0d92f9b",
        "colab": {
          "base_uri": "https://localhost:8080/",
          "height": 34
        }
      },
      "source": [
        "# Your code here:\n",
        "a2 = np.array([2, 3.4, 5.5, -6.4, -2.2, 2.4])\n",
        "\n",
        "print(a2)"
      ],
      "execution_count": 0,
      "outputs": [
        {
          "output_type": "stream",
          "text": [
            "[ 2.   3.4  5.5 -6.4 -2.2  2.4]\n"
          ],
          "name": "stdout"
        }
      ]
    },
    {
      "cell_type": "markdown",
      "metadata": {
        "id": "4aJDLH4Ngcqf",
        "colab_type": "text"
      },
      "source": [
        ">(b) Do you know what a[1] will equal? Print it to see.\n"
      ]
    },
    {
      "cell_type": "code",
      "metadata": {
        "id": "WmM93vxWgUxK",
        "colab_type": "code",
        "outputId": "08437f11-c3c6-4c64-9fde-a3ccaf8351e4",
        "colab": {
          "base_uri": "https://localhost:8080/",
          "height": 34
        }
      },
      "source": [
        "# Your code here:\n",
        "print(a2[1])"
      ],
      "execution_count": 0,
      "outputs": [
        {
          "output_type": "stream",
          "text": [
            "3.4\n"
          ],
          "name": "stdout"
        }
      ]
    },
    {
      "cell_type": "markdown",
      "metadata": {
        "id": "1OCgIo60fWYl",
        "colab_type": "text"
      },
      "source": [
        ">(c) Try printing a[1:4] to see what that equals."
      ]
    },
    {
      "cell_type": "code",
      "metadata": {
        "id": "_tYqMNmPgTJL",
        "colab_type": "code",
        "outputId": "f81c2571-de6e-4cee-fb4c-7d94ce0aaaba",
        "colab": {
          "base_uri": "https://localhost:8080/",
          "height": 34
        }
      },
      "source": [
        "# Your code here:\n",
        "print(a2[1:4])"
      ],
      "execution_count": 0,
      "outputs": [
        {
          "output_type": "stream",
          "text": [
            "[ 3.4  5.5 -6.4]\n"
          ],
          "name": "stdout"
        }
      ]
    },
    {
      "cell_type": "markdown",
      "metadata": {
        "id": "vj43JoUjgqRX",
        "colab_type": "text"
      },
      "source": [
        ">(d) Write a statement testing if \"a2\" contains the value 10."
      ]
    },
    {
      "cell_type": "code",
      "metadata": {
        "id": "nmTyRJROfV5v",
        "colab_type": "code",
        "outputId": "df102c2c-dbc7-4e9a-ae33-fb38ac827e0b",
        "colab": {
          "base_uri": "https://localhost:8080/",
          "height": 34
        }
      },
      "source": [
        "# Your code here:\n",
        "print(10 in a2)"
      ],
      "execution_count": 0,
      "outputs": [
        {
          "output_type": "stream",
          "text": [
            "False\n"
          ],
          "name": "stdout"
        }
      ]
    },
    {
      "cell_type": "markdown",
      "metadata": {
        "id": "picuPq5OhYeB",
        "colab_type": "text"
      },
      "source": [
        ">(e) Create a 2-D array from the following list and assign it to the variable \"b2\".\n",
        "\t[[2, 3.2, 5.5, -6.4, -2.2, 2.4],\n",
        "\t [1, 22, 4, 0.1, 5.3, -9],\n",
        "\t [3, 1, 2.1, 21, 1.1, -2]]\n"
      ]
    },
    {
      "cell_type": "code",
      "metadata": {
        "id": "jnxE80w1hjTo",
        "colab_type": "code",
        "outputId": "f43ebe5d-e13e-497e-b1c6-e73e9dacd551",
        "colab": {
          "base_uri": "https://localhost:8080/",
          "height": 67
        }
      },
      "source": [
        "# Your code here:\n",
        "b2 = np.array([[2, 3.2, 5.5, -6.4, -2.2, 2.4], \n",
        "                  [1, 22, 4, 0.1, 5.3, -9],\n",
        "                  [3, 1, 2.1, 21, 1.1, -2]])\n",
        "\n",
        "print(b2)"
      ],
      "execution_count": 0,
      "outputs": [
        {
          "output_type": "stream",
          "text": [
            "[[ 2.   3.2  5.5 -6.4 -2.2  2.4]\n",
            " [ 1.  22.   4.   0.1  5.3 -9. ]\n",
            " [ 3.   1.   2.1 21.   1.1 -2. ]]\n"
          ],
          "name": "stdout"
        }
      ]
    },
    {
      "cell_type": "markdown",
      "metadata": {
        "id": "udfb1cgGhrA3",
        "colab_type": "text"
      },
      "source": [
        ">(f) Can you guess what the following slices are equal to? Print them to check your understanding.\n",
        "\t\tb2[:, 3]\n",
        "\t\tb2[1:4, 0:4]\n",
        "\t\tb2[1:, 2]\n"
      ]
    },
    {
      "cell_type": "code",
      "metadata": {
        "id": "nlU81L1Nh4Vg",
        "colab_type": "code",
        "outputId": "5f306302-f4fc-4ac5-f861-64a47f1b6144",
        "colab": {
          "base_uri": "https://localhost:8080/",
          "height": 84
        }
      },
      "source": [
        "# Your code here:\n",
        "print(b2[:, 3])\n",
        "print(b2[1:4, 0:4])\n",
        "print(b2[1:, 2])"
      ],
      "execution_count": 0,
      "outputs": [
        {
          "output_type": "stream",
          "text": [
            "[-6.4  0.1 21. ]\n",
            "[[ 1.  22.   4.   0.1]\n",
            " [ 3.   1.   2.1 21. ]]\n",
            "[4.  2.1]\n"
          ],
          "name": "stdout"
        }
      ]
    }
  ]
}