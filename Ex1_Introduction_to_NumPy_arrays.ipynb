{
  "nbformat": 4,
  "nbformat_minor": 0,
  "metadata": {
    "colab": {
      "name": "Ex1-Introduction to NumPy arrays.ipynb",
      "version": "0.3.2",
      "provenance": [],
      "collapsed_sections": [],
      "include_colab_link": true
    },
    "kernelspec": {
      "name": "python3",
      "display_name": "Python 3"
    },
    "accelerator": "GPU"
  },
  "cells": [
    {
      "cell_type": "markdown",
      "metadata": {
        "id": "view-in-github",
        "colab_type": "text"
      },
      "source": [
        "<a href=\"https://colab.research.google.com/github/she-DATAnalysis/module-1/blob/master/Ex1_Introduction_to_NumPy_arrays.ipynb\" target=\"_parent\"><img src=\"https://colab.research.google.com/assets/colab-badge.svg\" alt=\"Open In Colab\"/></a>"
      ]
    },
    {
      "cell_type": "markdown",
      "metadata": {
        "id": "IZe1ZEda2w-d",
        "colab_type": "text"
      },
      "source": [
        "#Exercise #1: Introduction to NumPy arrays\n",
        "In this exercise we refers to a useful guide that can help you solve any questions in NumPy. This guide also summarize all that is needed to know about NumPy. [link to the guide](https://drive.google.com/file/d/0B9crmgoWupXkLTh0TS1HMzlrSVk/view)\n",
        "\n",
        "##Let’s create arrays in different ways:\n",
        "\n",
        "First, you should import numpy as np"
      ]
    },
    {
      "cell_type": "code",
      "metadata": {
        "id": "4dgyBR1B3QVZ",
        "colab_type": "code",
        "colab": {}
      },
      "source": [
        "import numpy as np"
      ],
      "execution_count": 0,
      "outputs": []
    },
    {
      "cell_type": "markdown",
      "metadata": {
        "id": "TWRqPfxK5Q-M",
        "colab_type": "text"
      },
      "source": [
        "\n",
        "\n",
        "### 1.   Read “Other ways to create arrays” on page 7-8 and then:\n",
        "\n"
      ]
    },
    {
      "cell_type": "markdown",
      "metadata": {
        "id": "tCxziE8W6ryJ",
        "colab_type": "text"
      },
      "source": [
        "\n",
        ">(a) Create an array of zeros of shape (2,3,4) :\n",
        "\n",
        "\n",
        "\n",
        "\n",
        "\n"
      ]
    },
    {
      "cell_type": "code",
      "metadata": {
        "id": "M8Gr9PQC64mb",
        "colab_type": "code",
        "colab": {}
      },
      "source": [
        "# Use np.zeros to create a (2,3,4) zero array\n",
        "# Your Code Here#\n",
        "a = []\n",
        "\n",
        "print(a)"
      ],
      "execution_count": 0,
      "outputs": []
    },
    {
      "cell_type": "markdown",
      "metadata": {
        "id": "GFuaihgyHR8h",
        "colab_type": "text"
      },
      "source": [
        " >(b) Create an array of ones of shape (2,3,4) :\n"
      ]
    },
    {
      "cell_type": "code",
      "metadata": {
        "id": "DXloqUXrK-nM",
        "colab_type": "code",
        "colab": {}
      },
      "source": [
        "# Use np.ones to create a (2,3,4) ones array\n",
        "# Your Code Here#\n",
        "b = []\n",
        "\n",
        "print(b)"
      ],
      "execution_count": 0,
      "outputs": []
    },
    {
      "cell_type": "markdown",
      "metadata": {
        "id": "YwOaU7VcdSJv",
        "colab_type": "text"
      },
      "source": [
        ">(c) Create an array with values 0 to 999 using  np.arange  function."
      ]
    },
    {
      "cell_type": "code",
      "metadata": {
        "id": "Z4W9cPdLdRwO",
        "colab_type": "code",
        "colab": {}
      },
      "source": [
        "# Your Code Here#\n",
        "c = []\n",
        "print(c)"
      ],
      "execution_count": 0,
      "outputs": []
    },
    {
      "cell_type": "markdown",
      "metadata": {
        "id": "FYVNbNKrdftn",
        "colab_type": "text"
      },
      "source": [
        ">(d) Create a 2-D array from the list [[1, 2.1, 3.2], [4, 5.4, 6.5]]:\n"
      ]
    },
    {
      "cell_type": "code",
      "metadata": {
        "id": "n166KmacTRIl",
        "colab_type": "code",
        "colab": {}
      },
      "source": [
        "# Try to define the list first and only after that convert it into an array\n",
        "# Your Code Here#\n",
        "d = []\n",
        "\n",
        "print(d)"
      ],
      "execution_count": 0,
      "outputs": []
    },
    {
      "cell_type": "markdown",
      "metadata": {
        "id": "RY7sTdBReGvv",
        "colab_type": "text"
      },
      "source": [
        ">(e) Create a new array of zeros with the same dimensions and type of \"d\"."
      ]
    },
    {
      "cell_type": "code",
      "metadata": {
        "id": "-b3SqFpIeTFT",
        "colab_type": "code",
        "colab": {}
      },
      "source": [
        "# Your Code Here#\n",
        "e = []\n",
        "\n",
        "print(e)"
      ],
      "execution_count": 0,
      "outputs": []
    },
    {
      "cell_type": "markdown",
      "metadata": {
        "id": "tfM0YQbrfFLF",
        "colab_type": "text"
      },
      "source": [
        ">(f) Create a new array of ones with the same dimensions and type of \"d\"."
      ]
    },
    {
      "cell_type": "code",
      "metadata": {
        "id": "thEZ0xMAfEuu",
        "colab_type": "code",
        "colab": {}
      },
      "source": [
        "f = []\n",
        "\n",
        "print(f)"
      ],
      "execution_count": 0,
      "outputs": []
    },
    {
      "cell_type": "markdown",
      "metadata": {
        "id": "uaoKJvoqfNpj",
        "colab_type": "text"
      },
      "source": [
        "### 2.  Let’s look at indexing and slicing arrays.\n",
        "\n",
        "Read page 3-4 (without the final section describing the \"reshape\") and then:\n"
      ]
    },
    {
      "cell_type": "markdown",
      "metadata": {
        "id": "LVRO3XwefWkx",
        "colab_type": "text"
      },
      "source": [
        ">(a) Create an array from the list [2, 3.4, 5.5, -6.4, -2.2, 2.4]:"
      ]
    },
    {
      "cell_type": "code",
      "metadata": {
        "id": "KJQa-ewLgU8j",
        "colab_type": "code",
        "colab": {}
      },
      "source": [
        "# Your code here:\n",
        "a2 = []\n",
        "\n",
        "print(a2)"
      ],
      "execution_count": 0,
      "outputs": []
    },
    {
      "cell_type": "markdown",
      "metadata": {
        "id": "4aJDLH4Ngcqf",
        "colab_type": "text"
      },
      "source": [
        ">(b) Do you know what a[1] will equal? Print it to see.\n"
      ]
    },
    {
      "cell_type": "code",
      "metadata": {
        "id": "WmM93vxWgUxK",
        "colab_type": "code",
        "colab": {}
      },
      "source": [
        "# Your code here:\n"
      ],
      "execution_count": 0,
      "outputs": []
    },
    {
      "cell_type": "markdown",
      "metadata": {
        "id": "1OCgIo60fWYl",
        "colab_type": "text"
      },
      "source": [
        ">(c) Try printing a[1:4] to see what that equals."
      ]
    },
    {
      "cell_type": "code",
      "metadata": {
        "id": "_tYqMNmPgTJL",
        "colab_type": "code",
        "colab": {}
      },
      "source": [
        "# Your code here:\n"
      ],
      "execution_count": 0,
      "outputs": []
    },
    {
      "cell_type": "markdown",
      "metadata": {
        "id": "vj43JoUjgqRX",
        "colab_type": "text"
      },
      "source": [
        ">(d) Write a statement testing if \"a2\" contains the value 10."
      ]
    },
    {
      "cell_type": "code",
      "metadata": {
        "id": "nmTyRJROfV5v",
        "colab_type": "code",
        "colab": {}
      },
      "source": [
        "# Your code here:\n"
      ],
      "execution_count": 0,
      "outputs": []
    },
    {
      "cell_type": "markdown",
      "metadata": {
        "id": "picuPq5OhYeB",
        "colab_type": "text"
      },
      "source": [
        ">(e) Create a 2-D array from the following list and assign it to the variable \"b2\".\n",
        "\t[[2, 3.2, 5.5, -6.4, -2.2, 2.4],\n",
        "\t [1, 22, 4, 0.1, 5.3, -9],\n",
        "\t [3, 1, 2.1, 21, 1.1, -2]]\n"
      ]
    },
    {
      "cell_type": "code",
      "metadata": {
        "id": "jnxE80w1hjTo",
        "colab_type": "code",
        "colab": {}
      },
      "source": [
        "# Your code here:\n",
        "b2 = []\n",
        "\n",
        "print(b2)"
      ],
      "execution_count": 0,
      "outputs": []
    },
    {
      "cell_type": "markdown",
      "metadata": {
        "id": "udfb1cgGhrA3",
        "colab_type": "text"
      },
      "source": [
        ">(f) Can you guess what the following slices are equal to? Print them to check your understanding.\n",
        "\t\tb2[:, 3]\n",
        "\t\tb2[1:4, 0:4]\n",
        "\t\tb2[1:, 2]\n"
      ]
    },
    {
      "cell_type": "code",
      "metadata": {
        "id": "nlU81L1Nh4Vg",
        "colab_type": "code",
        "colab": {}
      },
      "source": [
        "# Your code here:\n"
      ],
      "execution_count": 0,
      "outputs": []
    }
  ]
}