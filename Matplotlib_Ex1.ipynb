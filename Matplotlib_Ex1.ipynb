{
  "nbformat": 4,
  "nbformat_minor": 0,
  "metadata": {
    "colab": {
      "name": "Matplotlib_Ex1.ipynb",
      "version": "0.3.2",
      "provenance": [],
      "collapsed_sections": [],
      "include_colab_link": true
    },
    "kernelspec": {
      "name": "python3",
      "display_name": "Python 3"
    }
  },
  "cells": [
    {
      "cell_type": "markdown",
      "metadata": {
        "id": "view-in-github",
        "colab_type": "text"
      },
      "source": [
        "<a href=\"https://colab.research.google.com/github/she-DATAnalysis/DataAnalysis/blob/master/Matplotlib_Ex1.ipynb\" target=\"_parent\"><img src=\"https://colab.research.google.com/assets/colab-badge.svg\" alt=\"Open In Colab\"/></a>"
      ]
    },
    {
      "cell_type": "markdown",
      "metadata": {
        "id": "jHcpE10dV1XO",
        "colab_type": "text"
      },
      "source": [
        "#Matplotlib basic data visualization\n",
        "\n",
        "###This Excersice is based on DataCamp [\"Intermediate Python for Data Science\" Matplotlib section](https://campus.datacamp.com/courses/intermediate-python-for-data-science/matplotlib?ex=1)\n",
        "\n",
        "\n",
        "First, lets import:"
      ]
    },
    {
      "cell_type": "code",
      "metadata": {
        "id": "nbuTsZNXWW_l",
        "colab_type": "code",
        "colab": {}
      },
      "source": [
        "import matplotlib.pyplot as plt\n",
        "import numpy as np\n"
      ],
      "execution_count": 0,
      "outputs": []
    },
    {
      "cell_type": "markdown",
      "metadata": {
        "id": "ju1AQO2Lklqm",
        "colab_type": "text"
      },
      "source": [
        "Now we upload world population data. This is just very basic data we can manipulate for practice purposes."
      ]
    },
    {
      "cell_type": "code",
      "metadata": {
        "id": "zSqR003DVyKv",
        "colab_type": "code",
        "colab": {}
      },
      "source": [
        "# World population Data:\n",
        "year = np.arange(1951,2020,1)\n",
        "population  = np.array([2.583816786,2.630584384,2.677230358,2.724302468,2.772242535,2.821383444,2.871952278,\n",
        "                        2.924081243,2.977824686,3.033212527,3.090305279,3.149244245,3.210271352,3.273670772,\n",
        "                        3.339592688,3.408121405,3.479053821,3.5518807,3.625905514,3.70057765,3.7757909,\n",
        "                        3.851545181,3.927538695,4.003448151,4.079087198,4.154287594,4.229201257,4.304377112,4.380585755,\n",
        "                        4.458411534,4.537845777,4.618776168,4.701530843,4.786483862,4.873781796,4.963633228,\n",
        "                        5.055636132,5.148556956,5.240735117,5.33094346,5.418758803,5.504401149,5.588094837,\n",
        "                        5.670319703,5.751474416,5.83156502,5.910566295,5.988846103,6.066867391,6.145006989,\n",
        "                        6.223412158,6.302149639,6.381408987,6.461370865,6.542159383,6.623847913,6.706418593,\n",
        "                        6.789771253,6.873741054,6.958169159,7.043008586,7.128176935,7.213426452,7.298453033,\n",
        "                        7.38300882,7.46696428,7.550262101,7.632819325,7.714576923])"
      ],
      "execution_count": 0,
      "outputs": []
    },
    {
      "cell_type": "markdown",
      "metadata": {
        "id": "LLZAnKc3k0DM",
        "colab_type": "text"
      },
      "source": [
        "* Print the last item from year and population:"
      ]
    },
    {
      "cell_type": "code",
      "metadata": {
        "id": "2b9Q-YtAjgil",
        "colab_type": "code",
        "colab": {}
      },
      "source": [
        "# Print the last item from year and population\n"
      ],
      "execution_count": 0,
      "outputs": []
    },
    {
      "cell_type": "markdown",
      "metadata": {
        "id": "jDWYgf4Mk9hj",
        "colab_type": "text"
      },
      "source": [
        "* Make a line plot: year on the x-axis, pop on the y-axis and display the plot with `plt.show`:"
      ]
    },
    {
      "cell_type": "code",
      "metadata": {
        "id": "LVjB3bXRZPCY",
        "colab_type": "code",
        "colab": {}
      },
      "source": [
        "# Make a line plot: year on the x-axis, pop on the y-axis\n",
        "\n",
        "# Display the plot with plt.show()\n"
      ],
      "execution_count": 0,
      "outputs": []
    },
    {
      "cell_type": "markdown",
      "metadata": {
        "id": "VDxbLVEhlJlj",
        "colab_type": "text"
      },
      "source": [
        "* Change the line plot below to a scatter plot\n"
      ]
    },
    {
      "cell_type": "code",
      "metadata": {
        "id": "Pd7XWzbtfqVS",
        "colab_type": "code",
        "colab": {}
      },
      "source": [
        "# Change the line plot below to a scatter plot\n",
        "\n"
      ],
      "execution_count": 0,
      "outputs": []
    }
  ]
}