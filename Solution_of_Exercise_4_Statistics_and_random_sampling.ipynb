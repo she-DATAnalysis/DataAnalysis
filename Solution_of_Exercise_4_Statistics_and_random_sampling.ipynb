{
  "nbformat": 4,
  "nbformat_minor": 0,
  "metadata": {
    "colab": {
      "name": "Solution of Exercise #4: Statistics and random sampling",
      "version": "0.3.2",
      "provenance": [],
      "collapsed_sections": [],
      "include_colab_link": true
    },
    "kernelspec": {
      "name": "python3",
      "display_name": "Python 3"
    },
    "accelerator": "GPU"
  },
  "cells": [
    {
      "cell_type": "markdown",
      "metadata": {
        "id": "view-in-github",
        "colab_type": "text"
      },
      "source": [
        "<a href=\"https://colab.research.google.com/github/she-DATAnalysis/module-1/blob/master/Solution_of_Exercise_4_Statistics_and_random_sampling.ipynb\" target=\"_parent\"><img src=\"https://colab.research.google.com/assets/colab-badge.svg\" alt=\"Open In Colab\"/></a>"
      ]
    },
    {
      "cell_type": "markdown",
      "metadata": {
        "id": "IZe1ZEda2w-d",
        "colab_type": "text"
      },
      "source": [
        "#Solution  - Exercise #4: Statistics and random sampling\n",
        "\n",
        "###Aim: Use NumPy arrays in statistics and randomize samples\n",
        "\n",
        "In this exercise we refers to a useful guide that can help you solve any questions in NumPy. This guide also summarize all that is needed to know about NumPy. [link to the guide](https://drive.google.com/file/d/0B9crmgoWupXkLTh0TS1HMzlrSVk/view)\n",
        "\n",
        "###Issue covered:\n",
        "\n",
        "\n",
        "\n",
        "*   Find the median of an array.\n",
        "*   Find the correlation coefficient of an array.\n",
        "\n",
        "*   Generate random sample from normal distribution.\n",
        "*   Reordering array elements.\n",
        "\n",
        "\n",
        "### First, import Numpy as np:\n",
        "\n",
        "\n"
      ]
    },
    {
      "cell_type": "code",
      "metadata": {
        "id": "4dgyBR1B3QVZ",
        "colab_type": "code",
        "colab": {}
      },
      "source": [
        "import numpy as np"
      ],
      "execution_count": 0,
      "outputs": []
    },
    {
      "cell_type": "markdown",
      "metadata": {
        "id": "TWRqPfxK5Q-M",
        "colab_type": "text"
      },
      "source": [
        "\n",
        "\n",
        "### 1. Let’s look at array statistics.\n",
        "Read “Statistics” on page 19 and then:\n",
        "\n",
        "\n"
      ]
    },
    {
      "cell_type": "markdown",
      "metadata": {
        "id": "tCxziE8W6ryJ",
        "colab_type": "text"
      },
      "source": [
        "\n",
        ">(a) Create a 2-D array of shape (2, 4) containing two lists (range(4), range(10, 14)) and assign it to the variable \"a\" :\n",
        "\n",
        "\n",
        "\n",
        "\n",
        "\n"
      ]
    },
    {
      "cell_type": "code",
      "metadata": {
        "id": "M8Gr9PQC64mb",
        "colab_type": "code",
        "outputId": "422538d2-6668-48d4-f03a-c9b263f70ab5",
        "colab": {
          "base_uri": "https://localhost:8080/",
          "height": 50
        }
      },
      "source": [
        "# Your Code Here#\n",
        "a = np.array([range(4), range(10,14)])\n",
        "\n",
        "print(a)"
      ],
      "execution_count": 0,
      "outputs": [
        {
          "output_type": "stream",
          "text": [
            "[[ 0  1  2  3]\n",
            " [10 11 12 13]]\n"
          ],
          "name": "stdout"
        }
      ]
    },
    {
      "cell_type": "markdown",
      "metadata": {
        "id": "GFuaihgyHR8h",
        "colab_type": "text"
      },
      "source": [
        ">(b) Print the median of \"a\" :\n"
      ]
    },
    {
      "cell_type": "code",
      "metadata": {
        "id": "U3jo3clSQe2L",
        "colab_type": "code",
        "outputId": "d81d4e2c-0679-454a-b479-fe9a47c9b689",
        "colab": {
          "base_uri": "https://localhost:8080/",
          "height": 34
        }
      },
      "source": [
        "# Your Code Here#\n",
        "print(np.median(a))"
      ],
      "execution_count": 0,
      "outputs": [
        {
          "output_type": "stream",
          "text": [
            "6.5\n"
          ],
          "name": "stdout"
        }
      ]
    },
    {
      "cell_type": "markdown",
      "metadata": {
        "id": "S9JfjvRNQXRX",
        "colab_type": "text"
      },
      "source": [
        "\n",
        "\n",
        ">(c)   Print the correlation coefficient of \"a\":\n",
        "\n"
      ]
    },
    {
      "cell_type": "code",
      "metadata": {
        "id": "DXloqUXrK-nM",
        "colab_type": "code",
        "outputId": "2a28d675-e054-451e-c43c-809083beaacd",
        "colab": {
          "base_uri": "https://localhost:8080/",
          "height": 50
        }
      },
      "source": [
        "# Your Code Here#\n",
        "print(np.corrcoef(a))"
      ],
      "execution_count": 0,
      "outputs": [
        {
          "output_type": "stream",
          "text": [
            "[[1. 1.]\n",
            " [1. 1.]]\n"
          ],
          "name": "stdout"
        }
      ]
    },
    {
      "cell_type": "markdown",
      "metadata": {
        "id": "ymRcEsoPQor3",
        "colab_type": "text"
      },
      "source": [
        "###2. Let's generate random samples.\n",
        "Read “Random numbers” (pages 19-21) and then:\n",
        "\n"
      ]
    },
    {
      "cell_type": "markdown",
      "metadata": {
        "id": "5mB8SDGwQ1hA",
        "colab_type": "text"
      },
      "source": [
        "\n",
        "\n",
        ">(a)  Create a random array of shape (2, 4):\n",
        "\n",
        "\n"
      ]
    },
    {
      "cell_type": "code",
      "metadata": {
        "id": "cLBrFybcRuDV",
        "colab_type": "code",
        "colab": {}
      },
      "source": [
        "# Your Code Here#\n",
        "arr = np.random.rand(2,4)"
      ],
      "execution_count": 0,
      "outputs": []
    },
    {
      "cell_type": "markdown",
      "metadata": {
        "id": "V7VOA6lWRulp",
        "colab_type": "text"
      },
      "source": [
        "\n",
        "\n",
        ">(b)  Use a function that selects a random integer between 2 to 10:\n",
        "\n",
        "\n"
      ]
    },
    {
      "cell_type": "code",
      "metadata": {
        "id": "0kQ0HtXvRfPZ",
        "colab_type": "code",
        "outputId": "9a56d959-4006-4952-aa57-d9dbc5760b4e",
        "colab": {
          "base_uri": "https://localhost:8080/",
          "height": 34
        }
      },
      "source": [
        "# Your Code Here#\n",
        "print(np.random.randint(2, 10))"
      ],
      "execution_count": 0,
      "outputs": [
        {
          "output_type": "stream",
          "text": [
            "2\n"
          ],
          "name": "stdout"
        }
      ]
    },
    {
      "cell_type": "markdown",
      "metadata": {
        "colab_type": "text",
        "id": "YEDbBZKpR14i"
      },
      "source": [
        "\n",
        "\n",
        ">(c)  Generate a sample of size 40 from a standard normal distribution (with mean 0 and standard deviation 1), and assign it to the variable \"b\":\n",
        "\n",
        "\n"
      ]
    },
    {
      "cell_type": "code",
      "metadata": {
        "id": "A8dgmHOtR1OJ",
        "colab_type": "code",
        "outputId": "389dc06c-092a-446f-e010-123171ba4fd1",
        "colab": {
          "base_uri": "https://localhost:8080/",
          "height": 134
        }
      },
      "source": [
        "# Your Code Here#\n",
        "b = np.random.normal(size=40)\n",
        "print(b)"
      ],
      "execution_count": 0,
      "outputs": [
        {
          "output_type": "stream",
          "text": [
            "[ 1.63018957 -0.50043717  0.41852507  0.5301508   0.79424788 -0.62323111\n",
            "  0.01570143 -0.91752443  0.74279124 -0.18542257 -2.53215314 -0.56567698\n",
            "  1.40483923 -1.68668655 -0.89797351  0.22618748  1.11689969 -0.00577918\n",
            " -1.99481746 -0.38901697  0.89252569 -1.09802875 -2.03884317  0.67528243\n",
            "  2.20093088 -0.36624699 -0.89754556  1.30182937 -0.78569996  1.5958596\n",
            " -1.57355116  0.62484397  0.50951684 -0.69620206  0.83482344  1.20703055\n",
            "  0.28329772  1.60295509  0.8366242   1.19562729]\n"
          ],
          "name": "stdout"
        }
      ]
    },
    {
      "cell_type": "markdown",
      "metadata": {
        "colab_type": "text",
        "id": "N_NnXhzASPHS"
      },
      "source": [
        "\n",
        "\n",
        ">(d) Randomly shuffle the elements in \"b\", and print \"b\":\n",
        "\n",
        "\n"
      ]
    },
    {
      "cell_type": "code",
      "metadata": {
        "id": "W0d3RFvDSQlA",
        "colab_type": "code",
        "outputId": "6a7a00ee-b4e8-4fb0-a507-3d9236824dfe",
        "colab": {
          "base_uri": "https://localhost:8080/",
          "height": 134
        }
      },
      "source": [
        "# Your Code Here#\n",
        "np.random.shuffle(b)\n",
        "print(b)"
      ],
      "execution_count": 0,
      "outputs": [
        {
          "output_type": "stream",
          "text": [
            "[ 0.83482344 -1.68668655  2.20093088 -1.09802875  0.28329772  0.67528243\n",
            "  0.74279124  1.40483923  0.22618748 -0.18542257 -1.99481746  0.8366242\n",
            "  1.19562729  0.5301508  -0.38901697  1.20703055 -0.36624699  1.5958596\n",
            " -0.89797351  0.01570143  1.11689969 -0.50043717 -0.91752443 -0.00577918\n",
            " -2.03884317  0.62484397 -1.57355116 -0.78569996  0.89252569  0.79424788\n",
            "  1.30182937  0.50951684 -2.53215314  0.41852507 -0.69620206 -0.89754556\n",
            "  1.63018957  1.60295509 -0.62323111 -0.56567698]\n"
          ],
          "name": "stdout"
        }
      ]
    }
  ]
}