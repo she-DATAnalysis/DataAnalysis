{
  "nbformat": 4,
  "nbformat_minor": 0,
  "metadata": {
    "colab": {
      "name": "Exercise #2 -  Interrogating and manipulating arrays.ipynb",
      "version": "0.3.2",
      "provenance": [],
      "collapsed_sections": [],
      "include_colab_link": true
    },
    "kernelspec": {
      "name": "python3",
      "display_name": "Python 3"
    },
    "accelerator": "GPU"
  },
  "cells": [
    {
      "cell_type": "markdown",
      "metadata": {
        "id": "view-in-github",
        "colab_type": "text"
      },
      "source": [
        "<a href=\"https://colab.research.google.com/github/she-DATAnalysis/module-1/blob/master/Exercise_2_Interrogating_and_manipulating_arrays.ipynb\" target=\"_parent\"><img src=\"https://colab.research.google.com/assets/colab-badge.svg\" alt=\"Open In Colab\"/></a>"
      ]
    },
    {
      "cell_type": "markdown",
      "metadata": {
        "id": "IZe1ZEda2w-d",
        "colab_type": "text"
      },
      "source": [
        "#Exercise #2: Interrogating and manipulating arrays\n",
        "\n",
        "###Aim: Learn how to interrogate and manipulate NumPy arrays\n",
        "\n",
        "In this exercise we refers to a useful guide that can help you solve any questions in NumPy. This guide also summarize all that is needed to know about NumPy. [link to the guide](https://drive.google.com/file/d/0B9crmgoWupXkLTh0TS1HMzlrSVk/view)\n",
        "\n",
        "###Issue covered:\n",
        "\n",
        "\n",
        "\n",
        "*   Intertogating the properties of an array\n",
        "*   Manipulating arrays to change their properties.\n",
        "\n"
      ]
    },
    {
      "cell_type": "code",
      "metadata": {
        "id": "4dgyBR1B3QVZ",
        "colab_type": "code",
        "colab": {}
      },
      "source": [
        "import numpy as np"
      ],
      "execution_count": 0,
      "outputs": []
    },
    {
      "cell_type": "markdown",
      "metadata": {
        "id": "TWRqPfxK5Q-M",
        "colab_type": "text"
      },
      "source": [
        "\n",
        "\n",
        "### 1.  Let’s interrogate an array to find out its characteristics.\n",
        "Recall what you’ve read in Exercise #1, read page 11 and then:\n",
        "\n",
        "\n"
      ]
    },
    {
      "cell_type": "markdown",
      "metadata": {
        "id": "tCxziE8W6ryJ",
        "colab_type": "text"
      },
      "source": [
        "\n",
        ">(a)  Create a 2-D array shape (2,4) containing two lists:\n",
        " (range(4), range(10, 14)) and assign it to the variable \"arr\") :\n",
        "\n",
        "\n",
        "\n",
        "\n",
        "\n"
      ]
    },
    {
      "cell_type": "code",
      "metadata": {
        "id": "M8Gr9PQC64mb",
        "colab_type": "code",
        "colab": {}
      },
      "source": [
        "# Your Code Here#\n",
        "arr = []\n",
        "\n",
        "print(arr)"
      ],
      "execution_count": 0,
      "outputs": []
    },
    {
      "cell_type": "markdown",
      "metadata": {
        "id": "GFuaihgyHR8h",
        "colab_type": "text"
      },
      "source": [
        ">(b) Print the shape of the array :\n"
      ]
    },
    {
      "cell_type": "code",
      "metadata": {
        "id": "vSeLW1C7XkMu",
        "colab_type": "code",
        "colab": {}
      },
      "source": [
        "# Your Code Here#"
      ],
      "execution_count": 0,
      "outputs": []
    },
    {
      "cell_type": "markdown",
      "metadata": {
        "id": "S9JfjvRNQXRX",
        "colab_type": "text"
      },
      "source": [
        "\n",
        "\n",
        ">(c)  Print the size of the array:\n",
        "\n"
      ]
    },
    {
      "cell_type": "code",
      "metadata": {
        "id": "DXloqUXrK-nM",
        "colab_type": "code",
        "colab": {}
      },
      "source": [
        "# Your Code Here#\n"
      ],
      "execution_count": 0,
      "outputs": []
    },
    {
      "cell_type": "markdown",
      "metadata": {
        "id": "uT_f2eLVQg3h",
        "colab_type": "text"
      },
      "source": [
        "\n",
        "\n",
        ">(d)  Print the maximum and minimum of the array:\n",
        "\n"
      ]
    },
    {
      "cell_type": "code",
      "metadata": {
        "id": "wcVdZoTuQnx5",
        "colab_type": "code",
        "colab": {}
      },
      "source": [
        "# Your Code Here#\n"
      ],
      "execution_count": 0,
      "outputs": []
    },
    {
      "cell_type": "markdown",
      "metadata": {
        "id": "ymRcEsoPQor3",
        "colab_type": "text"
      },
      "source": [
        "###2. Let’s generate new arrays by modifying our array.\n",
        "Read the last code chunk on page 4 and read on until page 7  \n",
        "\t(up to “Other ways to create arrays” you’ve already read). Then:\n",
        "\n"
      ]
    },
    {
      "cell_type": "markdown",
      "metadata": {
        "id": "5mB8SDGwQ1hA",
        "colab_type": "text"
      },
      "source": [
        "\n",
        "\n",
        ">(a)  Continue to use the array \"arr\" as defined above:\n",
        "\n",
        "\n"
      ]
    },
    {
      "cell_type": "markdown",
      "metadata": {
        "id": "V7VOA6lWRulp",
        "colab_type": "text"
      },
      "source": [
        "\n",
        "\n",
        "> (b) Re-shape array \"arr\" to (2, 2, 2) and print it:\n",
        "\n",
        "\n"
      ]
    },
    {
      "cell_type": "code",
      "metadata": {
        "id": "0kQ0HtXvRfPZ",
        "colab_type": "code",
        "colab": {}
      },
      "source": [
        "# Your Code Here#\n"
      ],
      "execution_count": 0,
      "outputs": []
    },
    {
      "cell_type": "markdown",
      "metadata": {
        "colab_type": "text",
        "id": "YEDbBZKpR14i"
      },
      "source": [
        "\n",
        "\n",
        ">(c)  Print the array transposed:\n",
        "\n",
        "\n"
      ]
    },
    {
      "cell_type": "code",
      "metadata": {
        "id": "A8dgmHOtR1OJ",
        "colab_type": "code",
        "colab": {}
      },
      "source": [
        "# Your Code Here#\n"
      ],
      "execution_count": 0,
      "outputs": []
    },
    {
      "cell_type": "markdown",
      "metadata": {
        "colab_type": "text",
        "id": "nIIIj6a4R5vA"
      },
      "source": [
        "\n",
        "\n",
        ">(d)  Print the array flattened to a single dimension:\n",
        "\n",
        "\n"
      ]
    },
    {
      "cell_type": "code",
      "metadata": {
        "id": "qUrxPgsJR4CV",
        "colab_type": "code",
        "colab": {}
      },
      "source": [
        "# Your Code Here#\n"
      ],
      "execution_count": 0,
      "outputs": []
    },
    {
      "cell_type": "markdown",
      "metadata": {
        "colab_type": "text",
        "id": "N_NnXhzASPHS"
      },
      "source": [
        "\n",
        "\n",
        ">(e)  Print the array converted to floats:\n",
        "\n",
        "\n"
      ]
    },
    {
      "cell_type": "code",
      "metadata": {
        "id": "W0d3RFvDSQlA",
        "colab_type": "code",
        "colab": {}
      },
      "source": [
        "# Your Code Here#\n"
      ],
      "execution_count": 0,
      "outputs": []
    },
    {
      "cell_type": "markdown",
      "metadata": {
        "colab_type": "text",
        "id": "wlaXfi70SSUC"
      },
      "source": [
        "\n",
        "\n",
        ">(f) Create a 2-D array shape (2, 4) containing two lists [0, 3.1, 2.2, 1.1] and [7, 4, 3.14, 11] and assign it to the variable \"arr2\":\n",
        "\n",
        "\n"
      ]
    },
    {
      "cell_type": "code",
      "metadata": {
        "id": "u2ieDOfHSTLw",
        "colab_type": "code",
        "colab": {}
      },
      "source": [
        "# Your Code Here#\n",
        "arr2=[]\n",
        "\n",
        "print(arr2)"
      ],
      "execution_count": 0,
      "outputs": []
    },
    {
      "cell_type": "code",
      "metadata": {
        "id": "SU7Q5BMMYtXB",
        "colab_type": "code",
        "colab": {}
      },
      "source": [
        ""
      ],
      "execution_count": 0,
      "outputs": []
    },
    {
      "cell_type": "markdown",
      "metadata": {
        "colab_type": "text",
        "id": "b7N5elRAST-u"
      },
      "source": [
        "\n",
        "\n",
        ">(g) Use  concatenate  function to concatenate \"arr\" and \"arr2\":\n",
        "\n",
        "\n"
      ]
    },
    {
      "cell_type": "code",
      "metadata": {
        "id": "NLxAKMvnSUdU",
        "colab_type": "code",
        "colab": {}
      },
      "source": [
        "# Your Code Here#\n",
        "arr_conc = []\n",
        "\n",
        "print(arr_conc)"
      ],
      "execution_count": 0,
      "outputs": []
    },
    {
      "cell_type": "markdown",
      "metadata": {
        "colab_type": "text",
        "id": "EQKgp9DtSVis"
      },
      "source": [
        "\n",
        "> (h) As you’ve read on page 7, you can use newaxis function to expand the shape of a 1-D array. In the case of multidimensional arrays you can use expand_dims function as shown here. Use expand_dims function and print \"arr\" array re-shaped to (2, 4, 1):\n",
        "\n",
        "\n"
      ]
    },
    {
      "cell_type": "code",
      "metadata": {
        "id": "3TNZKchOSbzx",
        "colab_type": "code",
        "colab": {}
      },
      "source": [
        "# Your Code Here#\n"
      ],
      "execution_count": 0,
      "outputs": []
    },
    {
      "cell_type": "markdown",
      "metadata": {
        "colab_type": "text",
        "id": "FGJJSmo0ScVK"
      },
      "source": [
        "**Note:** np.fromstring() only works for floats. If we want to use it with other types, the type must be given as an argument, e.g. np.fromstring(str, dtype=int)"
      ]
    }
  ]
}