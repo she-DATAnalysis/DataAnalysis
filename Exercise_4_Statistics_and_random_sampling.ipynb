{
  "nbformat": 4,
  "nbformat_minor": 0,
  "metadata": {
    "colab": {
      "name": "Exercise #4: Statistics and random sampling",
      "version": "0.3.2",
      "provenance": [],
      "collapsed_sections": [],
      "include_colab_link": true
    },
    "kernelspec": {
      "name": "python3",
      "display_name": "Python 3"
    },
    "accelerator": "GPU"
  },
  "cells": [
    {
      "cell_type": "markdown",
      "metadata": {
        "id": "view-in-github",
        "colab_type": "text"
      },
      "source": [
        "<a href=\"https://colab.research.google.com/github/she-DATAnalysis/module-1/blob/master/Exercise_4_Statistics_and_random_sampling.ipynb\" target=\"_parent\"><img src=\"https://colab.research.google.com/assets/colab-badge.svg\" alt=\"Open In Colab\"/></a>"
      ]
    },
    {
      "cell_type": "markdown",
      "metadata": {
        "id": "IZe1ZEda2w-d",
        "colab_type": "text"
      },
      "source": [
        "#Exercise #4: Statistics and random sampling\n",
        "\n",
        "###Aim: Use NumPy arrays in statistics and randomize samples\n",
        "\n",
        "In this exercise we refers to a useful guide that can help you solve any questions in NumPy. This guide also summarize all that is needed to know about NumPy. [link to the guide](https://drive.google.com/file/d/0B9crmgoWupXkLTh0TS1HMzlrSVk/view)\n",
        "\n",
        "###Issue covered:\n",
        "\n",
        "\n",
        "\n",
        "*   Find the median of an array.\n",
        "*   Find the correlation coefficient of an array.\n",
        "\n",
        "*   Generate random sample from normal distribution.\n",
        "*   Reordering array elements.\n",
        "\n",
        "\n",
        "### First, import Numpy as np:\n",
        "\n",
        "\n"
      ]
    },
    {
      "cell_type": "code",
      "metadata": {
        "id": "4dgyBR1B3QVZ",
        "colab_type": "code",
        "colab": {}
      },
      "source": [
        "import numpy as np"
      ],
      "execution_count": 0,
      "outputs": []
    },
    {
      "cell_type": "markdown",
      "metadata": {
        "id": "TWRqPfxK5Q-M",
        "colab_type": "text"
      },
      "source": [
        "\n",
        "\n",
        "### 1. Let’s look at array statistics.\n",
        "Read “Statistics” on page 19 and then:\n",
        "\n",
        "\n"
      ]
    },
    {
      "cell_type": "markdown",
      "metadata": {
        "id": "tCxziE8W6ryJ",
        "colab_type": "text"
      },
      "source": [
        "\n",
        ">(a) Create a 2-D array of shape (2, 4) containing two lists (range(4), range(10, 14)) and assign it to the variable \"a\" :\n",
        "\n",
        "\n",
        "\n",
        "\n",
        "\n"
      ]
    },
    {
      "cell_type": "code",
      "metadata": {
        "id": "M8Gr9PQC64mb",
        "colab_type": "code",
        "colab": {}
      },
      "source": [
        "# Your Code Here#\n",
        "a = []\n",
        "\n",
        "print(a)"
      ],
      "execution_count": 0,
      "outputs": []
    },
    {
      "cell_type": "markdown",
      "metadata": {
        "id": "GFuaihgyHR8h",
        "colab_type": "text"
      },
      "source": [
        ">(b) Print the median of \"a\" :\n"
      ]
    },
    {
      "cell_type": "code",
      "metadata": {
        "id": "U3jo3clSQe2L",
        "colab_type": "code",
        "colab": {}
      },
      "source": [
        "# Your Code Here#\n"
      ],
      "execution_count": 0,
      "outputs": []
    },
    {
      "cell_type": "markdown",
      "metadata": {
        "id": "S9JfjvRNQXRX",
        "colab_type": "text"
      },
      "source": [
        "\n",
        "\n",
        ">(c)   Print the correlation coefficient of \"a\":\n",
        "\n"
      ]
    },
    {
      "cell_type": "code",
      "metadata": {
        "id": "DXloqUXrK-nM",
        "colab_type": "code",
        "colab": {}
      },
      "source": [
        "# Your Code Here#\n"
      ],
      "execution_count": 0,
      "outputs": []
    },
    {
      "cell_type": "markdown",
      "metadata": {
        "id": "ymRcEsoPQor3",
        "colab_type": "text"
      },
      "source": [
        "###2. Let's generate random samples.\n",
        "Read “Random numbers” (pages 19-21) and then:\n",
        "\n"
      ]
    },
    {
      "cell_type": "markdown",
      "metadata": {
        "id": "5mB8SDGwQ1hA",
        "colab_type": "text"
      },
      "source": [
        "\n",
        "\n",
        ">(a)  Create a random array of shape (2, 4):\n",
        "\n",
        "\n"
      ]
    },
    {
      "cell_type": "code",
      "metadata": {
        "id": "cLBrFybcRuDV",
        "colab_type": "code",
        "colab": {}
      },
      "source": [
        "# Your Code Here#\n"
      ],
      "execution_count": 0,
      "outputs": []
    },
    {
      "cell_type": "markdown",
      "metadata": {
        "id": "V7VOA6lWRulp",
        "colab_type": "text"
      },
      "source": [
        "\n",
        "\n",
        ">(b)  Use a function that selects a random integer between 2 to 10:\n",
        "\n",
        "\n"
      ]
    },
    {
      "cell_type": "code",
      "metadata": {
        "id": "0kQ0HtXvRfPZ",
        "colab_type": "code",
        "colab": {}
      },
      "source": [
        "# Your Code Here#\n"
      ],
      "execution_count": 0,
      "outputs": []
    },
    {
      "cell_type": "markdown",
      "metadata": {
        "colab_type": "text",
        "id": "YEDbBZKpR14i"
      },
      "source": [
        "\n",
        "\n",
        ">(c)  Generate a sample of size 40 from a standard normal distribution (with mean 0 and standard deviation 1), and assign it to the variable \"b\":\n",
        "\n",
        "\n"
      ]
    },
    {
      "cell_type": "code",
      "metadata": {
        "id": "A8dgmHOtR1OJ",
        "colab_type": "code",
        "colab": {}
      },
      "source": [
        "# Your Code Here#\n",
        "b = []\n",
        "print(b)"
      ],
      "execution_count": 0,
      "outputs": []
    },
    {
      "cell_type": "markdown",
      "metadata": {
        "colab_type": "text",
        "id": "N_NnXhzASPHS"
      },
      "source": [
        "\n",
        "\n",
        ">(d) Randomly shuffle the elements in \"b\", and print \"b\":\n",
        "\n",
        "\n"
      ]
    },
    {
      "cell_type": "code",
      "metadata": {
        "id": "W0d3RFvDSQlA",
        "colab_type": "code",
        "colab": {}
      },
      "source": [
        "# Your Code Here#\n"
      ],
      "execution_count": 0,
      "outputs": []
    }
  ]
}